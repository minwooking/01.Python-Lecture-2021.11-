{
 "cells": [
  {
   "cell_type": "markdown",
   "metadata": {},
   "source": [
    "# Unit 22 리스트와 튜플 응용하기\n",
    "\n",
    "ㅇ 요소추가"
   ]
  },
  {
   "cell_type": "code",
   "execution_count": 9,
   "metadata": {},
   "outputs": [
    {
     "data": {
      "text/plain": [
       "<function list.extend(iterable, /)>"
      ]
     },
     "execution_count": 9,
     "metadata": {},
     "output_type": "execute_result"
    }
   ],
   "source": [
    "# append 요소추가!!!! 무조건 기억할것 실전에서는 appned만 쓰임 반복문과 사용하면 효율성이 너무 좋음 \n",
    "# 리스트는 배열의 관리문제를 해결해줬음 알고리즘이 점점 그쪽으로 발전함 appned가 파이썬의 장점이기 때문에\n",
    "# \n",
    "a = [10,20,30]\n",
    "a.append(40) ## 데이터 추가명령어!! \n",
    "a.insert(0, 34) # 반복문과 결합이 잘안되서 진짜 안쓰임 참고만\n",
    "a.append([100,200]) # 리스트도 추가 가능, appned를 다리미로 쫙펴서 (리스트 튜플없이 )"
   ]
  },
  {
   "cell_type": "code",
   "execution_count": 10,
   "metadata": {},
   "outputs": [],
   "source": [
    "b = [1,2,3]\n",
    "b.extend([30,40])"
   ]
  },
  {
   "cell_type": "code",
   "execution_count": 11,
   "metadata": {},
   "outputs": [
    {
     "data": {
      "text/plain": [
       "[1, 2, 3, 30, 40]"
      ]
     },
     "execution_count": 11,
     "metadata": {},
     "output_type": "execute_result"
    }
   ],
   "source": [
    "# 요소삭제~ \n"
   ]
  },
  {
   "cell_type": "code",
   "execution_count": 12,
   "metadata": {},
   "outputs": [
    {
     "data": {
      "text/plain": [
       "[34, 10, 20, 30, 40, [100, 200]]"
      ]
     },
     "execution_count": 12,
     "metadata": {},
     "output_type": "execute_result"
    }
   ],
   "source": [
    "a"
   ]
  },
  {
   "cell_type": "code",
   "execution_count": 17,
   "metadata": {},
   "outputs": [
    {
     "ename": "SyntaxError",
     "evalue": "invalid syntax (<ipython-input-17-c898a9f208cb>, line 1)",
     "output_type": "error",
     "traceback": [
      "\u001b[1;36m  File \u001b[1;32m\"<ipython-input-17-c898a9f208cb>\"\u001b[1;36m, line \u001b[1;32m1\u001b[0m\n\u001b[1;33m    del a []\u001b[0m\n\u001b[1;37m           ^\u001b[0m\n\u001b[1;31mSyntaxError\u001b[0m\u001b[1;31m:\u001b[0m invalid syntax\n"
     ]
    }
   ],
   "source": []
  },
  {
   "cell_type": "code",
   "execution_count": 21,
   "metadata": {},
   "outputs": [
    {
     "ename": "IndexError",
     "evalue": "pop from empty list",
     "output_type": "error",
     "traceback": [
      "\u001b[1;31m---------------------------------------------------------------------------\u001b[0m",
      "\u001b[1;31mIndexError\u001b[0m                                Traceback (most recent call last)",
      "\u001b[1;32m<ipython-input-21-e8eb0857b758>\u001b[0m in \u001b[0;36m<module>\u001b[1;34m\u001b[0m\n\u001b[0;32m      1\u001b[0m \u001b[1;31m## pop 메소드 는 끄집어 내면서 삭제를 해버림\u001b[0m\u001b[1;33m\u001b[0m\u001b[1;33m\u001b[0m\u001b[1;33m\u001b[0m\u001b[0m\n\u001b[0;32m      2\u001b[0m \u001b[1;33m\u001b[0m\u001b[0m\n\u001b[1;32m----> 3\u001b[1;33m \u001b[0ma\u001b[0m\u001b[1;33m.\u001b[0m\u001b[0mpop\u001b[0m\u001b[1;33m(\u001b[0m\u001b[1;36m0\u001b[0m\u001b[1;33m)\u001b[0m\u001b[1;33m\u001b[0m\u001b[1;33m\u001b[0m\u001b[0m\n\u001b[0m",
      "\u001b[1;31mIndexError\u001b[0m: pop from empty list"
     ]
    }
   ],
   "source": [
    "## pop 메소드 는 끄집어 내면서 삭제를 해버림  \n",
    "## del 이랑 똑같고 보여줌 어떻게 보면 반대의 개념\n"
   ]
  },
  {
   "cell_type": "code",
   "execution_count": null,
   "metadata": {},
   "outputs": [],
   "source": [
    "# 리스트에서 특정값을 찾아서 삭제하기\n",
    "# 값으로 지우는거~ 잘안쓰임\n",
    "# Stack 구조 산타할아버지 양말 끄집어 낼때 순서대로 Last - in  First - out \n",
    "# Queue 구조 입구와 출입구가 다름 First - in , First - out"
   ]
  },
  {
   "cell_type": "code",
   "execution_count": 24,
   "metadata": {},
   "outputs": [
    {
     "name": "stdout",
     "output_type": "stream",
     "text": [
      "index0, value : 10\n",
      "index1, value : 20\n",
      "index2, value : 30\n"
     ]
    }
   ],
   "source": [
    "# stack.appned() # 집어 넣을때는 stack.appnd\n",
    "# stack. pop # 끄집어 넣을때는 stack.pop\n",
    "# queue.insert (수정) (집어 넣을때)\n",
    "# queue.pop() (빼는 동작)\n",
    "a = [10,20,30]\n",
    "a.index(20) # 내가 \n",
    "\n",
    "for index, element in enumerate(a) : ## euumerate 꼭꼭 암기할것 벨류가 20인 인덱스값을 끄집어내줌\n",
    "    print(f'index{index}, value : {element}')\n"
   ]
  },
  {
   "cell_type": "code",
   "execution_count": 25,
   "metadata": {},
   "outputs": [
    {
     "name": "stdout",
     "output_type": "stream",
     "text": [
      "index:0,value:10\n",
      "index:1,value:20\n",
      "index:2,value:30\n"
     ]
    }
   ],
   "source": [
    "for i in range(len(a)):\n",
    "    print(f'index:{i},value:{a[i]}')"
   ]
  },
  {
   "cell_type": "code",
   "execution_count": 28,
   "metadata": {},
   "outputs": [
    {
     "name": "stdout",
     "output_type": "stream",
     "text": [
      "1\n"
     ]
    }
   ],
   "source": [
    "value = 20\n",
    "\n",
    "for index, element in enumerate(a):\n",
    "    if element == value:\n",
    "        break\n",
    "print(index)\n"
   ]
  },
  {
   "cell_type": "code",
   "execution_count": 29,
   "metadata": {},
   "outputs": [],
   "source": [
    "# a.index(20) 사용진짜 안함 대시 원리를 알면 반복문조건문리스틀 이용해서 구할수있다. \n",
    "# 함수나 등등 을 만들수있음"
   ]
  },
  {
   "cell_type": "code",
   "execution_count": 30,
   "metadata": {},
   "outputs": [
    {
     "data": {
      "text/plain": [
       "2"
      ]
     },
     "execution_count": 30,
     "metadata": {},
     "output_type": "execute_result"
    }
   ],
   "source": [
    "# 특정 값의 갯수 a리스트 안에 20이 몇개 있냐\n",
    "a = [10,20,30,15,20,40]\n",
    "a. count(20)"
   ]
  },
  {
   "cell_type": "code",
   "execution_count": 31,
   "metadata": {},
   "outputs": [
    {
     "data": {
      "text/plain": [
       "<list_reverseiterator at 0x22acb8eba30>"
      ]
     },
     "execution_count": 31,
     "metadata": {},
     "output_type": "execute_result"
    }
   ],
   "source": [
    "# 리스트 순서 뒤집기 reverse() 함수이용함 \n",
    "\n",
    "reversed(a)"
   ]
  },
  {
   "cell_type": "code",
   "execution_count": 32,
   "metadata": {},
   "outputs": [
    {
     "data": {
      "text/plain": [
       "[10, 20, 30, 15, 20, 40]"
      ]
     },
     "execution_count": 32,
     "metadata": {},
     "output_type": "execute_result"
    }
   ],
   "source": [
    "# a[::-1]<< 존나좋은거임 걍 외워  == 리버스랑 다른게없음\n",
    "\n",
    "a"
   ]
  },
  {
   "cell_type": "code",
   "execution_count": 35,
   "metadata": {},
   "outputs": [],
   "source": [
    "a.reverse()"
   ]
  },
  {
   "cell_type": "code",
   "execution_count": 37,
   "metadata": {},
   "outputs": [
    {
     "data": {
      "text/plain": [
       "[10, 20, 30, 15, 20, 40]"
      ]
     },
     "execution_count": 37,
     "metadata": {},
     "output_type": "execute_result"
    }
   ],
   "source": [
    "a[::-1]"
   ]
  },
  {
   "cell_type": "code",
   "execution_count": 39,
   "metadata": {},
   "outputs": [
    {
     "data": {
      "text/plain": [
       "[10, 15, 20, 20, 30, 40]"
      ]
     },
     "execution_count": 39,
     "metadata": {},
     "output_type": "execute_result"
    }
   ],
   "source": [
    "# 정렬  기본적으로 오름차순(ascending order)정렬 이라고함  \n",
    "a.sort() # 정렬하고 저장해버림 순서를 바꿔버림\n",
    "a"
   ]
  },
  {
   "cell_type": "code",
   "execution_count": 41,
   "metadata": {},
   "outputs": [
    {
     "data": {
      "text/plain": [
       "[40, 30, 20, 20, 15, 10]"
      ]
     },
     "execution_count": 41,
     "metadata": {},
     "output_type": "execute_result"
    }
   ],
   "source": [
    "# 내림차순(desending order) 정렬 이라고함\n",
    "a.sort(reverse=True) # 정렬하고 저장해버림 순서를 바꿔버림\n",
    "a"
   ]
  },
  {
   "cell_type": "code",
   "execution_count": 42,
   "metadata": {},
   "outputs": [
    {
     "data": {
      "text/plain": [
       "[10, 15, 20, 20, 30, 40]"
      ]
     },
     "execution_count": 42,
     "metadata": {},
     "output_type": "execute_result"
    }
   ],
   "source": [
    "b = [10,20,30,15,20,40]\n",
    "sorted(b) # 정렬하기만 하고 저장을 하지 않는다"
   ]
  },
  {
   "cell_type": "code",
   "execution_count": 43,
   "metadata": {},
   "outputs": [
    {
     "data": {
      "text/plain": [
       "[10, 20, 30, 15, 20, 40]"
      ]
     },
     "execution_count": 43,
     "metadata": {},
     "output_type": "execute_result"
    }
   ],
   "source": [
    "b"
   ]
  },
  {
   "cell_type": "code",
   "execution_count": 44,
   "metadata": {},
   "outputs": [
    {
     "data": {
      "text/plain": [
       "([40, 30, 20, 20, 15, 10], [10, 20, 30, 15, 20, 40])"
      ]
     },
     "execution_count": 44,
     "metadata": {},
     "output_type": "execute_result"
    }
   ],
   "source": [
    "# 몰라도됨 그냥  새로 넣으면 됨a.clear()\n",
    "\n",
    "# 리스트를 슬라이스로 조작하기 슬라이스가 가 간편할수도 있음\n",
    "# append만 잘기억하면 슬라이스로 조지면된다.\n",
    "\n",
    "a,b"
   ]
  },
  {
   "cell_type": "code",
   "execution_count": 45,
   "metadata": {},
   "outputs": [],
   "source": [
    "b = a # a를 b에다가 저장을 시켰어"
   ]
  },
  {
   "cell_type": "code",
   "execution_count": 46,
   "metadata": {},
   "outputs": [
    {
     "data": {
      "text/plain": [
       "[40, 30, 20, 20, 15, 300]"
      ]
     },
     "execution_count": 46,
     "metadata": {},
     "output_type": "execute_result"
    }
   ],
   "source": [
    "b[-1] = 300 # 종속이 되는건가\n",
    "a"
   ]
  },
  {
   "cell_type": "code",
   "execution_count": 47,
   "metadata": {},
   "outputs": [
    {
     "data": {
      "text/plain": [
       "True"
      ]
     },
     "execution_count": 47,
     "metadata": {},
     "output_type": "execute_result"
    }
   ],
   "source": [
    "# 리스트 같은 경우에는 어딘가에 기억장소가 있고 A라고 하는 놈은 C언어의 포인터 같은 느낌으로 기억하면\n",
    "# 주소를 카피해주면된다. 포인팅이같다. 위 예시 다시 볼것\n",
    "# 리스트에서 말하는 할당과 복사를 말한다.  \n",
    "\n",
    "a is b\n",
    "# True 가 나옴 "
   ]
  },
  {
   "cell_type": "code",
   "execution_count": 51,
   "metadata": {},
   "outputs": [
    {
     "data": {
      "text/plain": [
       "([40, 30, 20, 20, 15, 88], [40, 30, 20, 20, 15, 300])"
      ]
     },
     "execution_count": 51,
     "metadata": {},
     "output_type": "execute_result"
    }
   ],
   "source": [
    "# 카피 메소드를 사용할 경우 주소 포인터를 새로 만들기 때문에 a에 영향을 주지 않는다 복사 붙혀넣기 와 잘라서 붙혀넣기\n",
    "# 개념으로 생각해도 괜찮을 듯 싶다. \n",
    "b = a.copy()\n",
    "b[-1] = 88\n",
    "b,a"
   ]
  },
  {
   "cell_type": "code",
   "execution_count": 56,
   "metadata": {},
   "outputs": [
    {
     "data": {
      "text/plain": [
       "(2382814684672, 2382814684672)"
      ]
     },
     "execution_count": 56,
     "metadata": {},
     "output_type": "execute_result"
    }
   ],
   "source": [
    "# Side Effect 연륜?? 부작용!!? \n",
    "# 메소드와 forted 자기자신이 바뀌는것과 안바뀌는것을 적당히 나눠서 잘해야한다.\n",
    "# 포인터를 잘알아야한다. \n",
    "\n",
    "a = [40,30,20,15,10]\n",
    "b = a\n",
    "#b = a.copy()\n",
    "b[-1] = 300\n",
    "a, b\n",
    "\n",
    "\n",
    "id(a), id(b)"
   ]
  },
  {
   "cell_type": "code",
   "execution_count": 58,
   "metadata": {},
   "outputs": [
    {
     "data": {
      "text/plain": [
       "(2382814684672, 2382827043872)"
      ]
     },
     "execution_count": 58,
     "metadata": {},
     "output_type": "execute_result"
    }
   ],
   "source": [
    "b = a.copy\n",
    "a,b\n",
    "\n",
    "id(a), id(b)"
   ]
  },
  {
   "cell_type": "markdown",
   "metadata": {},
   "source": [
    "### 반복문과 리스트"
   ]
  },
  {
   "cell_type": "code",
   "execution_count": 59,
   "metadata": {},
   "outputs": [
    {
     "name": "stdout",
     "output_type": "stream",
     "text": [
      "38\n",
      "21\n",
      "52\n",
      "62\n",
      "19\n"
     ]
    }
   ],
   "source": [
    "a = [38,21,52,62,19]\n",
    "for i in a: # a 에 그냥오면 된다. \n",
    "    print(i)\n"
   ]
  },
  {
   "cell_type": "code",
   "execution_count": 66,
   "metadata": {},
   "outputs": [
    {
     "name": "stdout",
     "output_type": "stream",
     "text": [
      "0 20\n",
      "1 20\n",
      "2 20\n",
      "3 20\n",
      "4 20\n"
     ]
    }
   ],
   "source": [
    "a = []\n",
    "a = [38,21,52,62,19]\n",
    "for index, elem in enumerate(a): ## enumerate 가 뭘까\\\n",
    "    print(index, value)"
   ]
  },
  {
   "cell_type": "code",
   "execution_count": 73,
   "metadata": {},
   "outputs": [
    {
     "name": "stdout",
     "output_type": "stream",
     "text": [
      "0 20\n",
      "1 20\n",
      "2 20\n",
      "3 20\n",
      "4 20\n"
     ]
    }
   ],
   "source": [
    "## 질문하기 ## \n",
    "a = [38,21,52,62,19]\n",
    "a\n",
    "for index, elem in enumerate(a): ## enumerate 가 뭘까\\\n",
    "    print(index, value)"
   ]
  },
  {
   "cell_type": "code",
   "execution_count": 70,
   "metadata": {},
   "outputs": [
    {
     "name": "stdout",
     "output_type": "stream",
     "text": [
      "1 사과\n",
      "2 배\n",
      "3 귤\n",
      "4 감\n"
     ]
    }
   ],
   "source": [
    "fruits = ['사과','배', '귤', '감']\n",
    "for index, fruit in enumerate(fruits):\n",
    "    print(index+1,fruit)"
   ]
  },
  {
   "cell_type": "code",
   "execution_count": 79,
   "metadata": {},
   "outputs": [
    {
     "data": {
      "text/plain": [
       "19"
      ]
     },
     "execution_count": 79,
     "metadata": {},
     "output_type": "execute_result"
    }
   ],
   "source": [
    "### 22-4. 리스트의 최대값, 최소값, 합계 구하기\n",
    "a = [38,21,53,62,19]\n",
    "#small = a[0]\n",
    "small = 10000\n",
    "for element in a:\n",
    "    if element < small:\n",
    "        small = element\n",
    "small\n"
   ]
  },
  {
   "cell_type": "code",
   "execution_count": 83,
   "metadata": {},
   "outputs": [
    {
     "data": {
      "text/plain": [
       "(19, 62, 193)"
      ]
     },
     "execution_count": 83,
     "metadata": {},
     "output_type": "execute_result"
    }
   ],
   "source": [
    "### 이게 이해가 되나 ????? ???? \n",
    "### ????  ?? ? ?  ?? ? \n",
    "large = -1 \n",
    "for element in a:\n",
    "    if element > large:\n",
    "        large = element\n",
    "large\n",
    "\n",
    "min(a), max(a),sum(a) # 함수도있다. "
   ]
  },
  {
   "cell_type": "code",
   "execution_count": 85,
   "metadata": {},
   "outputs": [
    {
     "data": {
      "text/plain": [
       "193"
      ]
     },
     "execution_count": 85,
     "metadata": {},
     "output_type": "execute_result"
    }
   ],
   "source": [
    "a = [38,21,53,62,19]\n",
    "sum = 0\n",
    "for i in a:\n",
    "    sum += i\n",
    "sum"
   ]
  },
  {
   "cell_type": "code",
   "execution_count": 86,
   "metadata": {},
   "outputs": [],
   "source": [
    "# 인터프리터 형식이라서\n",
    "# int' object is not callable 함수 에 간섭이 가능함. \n",
    "# 그러므로 함수와 이름이 겹칠수도 있을때 sum_ 등으로 쓰이는게 좋다. \n",
    "# 내장함수는 이름으로 쓸수있기때문에 조심조심"
   ]
  },
  {
   "cell_type": "markdown",
   "metadata": {},
   "source": [
    "# 22-5. 리스트 표현식(Comprehension)\n",
    "# 파이썬식스러운 표현\n",
    "\n"
   ]
  },
  {
   "cell_type": "code",
   "execution_count": 89,
   "metadata": {},
   "outputs": [
    {
     "data": {
      "text/plain": [
       "[1, 4, 9, 16, 25, 36, 49, 64, 81, 100]"
      ]
     },
     "execution_count": 89,
     "metadata": {},
     "output_type": "execute_result"
    }
   ],
   "source": [
    "# 1에서 10까지의 제곱수로 된 리스트를 만드세요.\n",
    "# 원래방식\n",
    "# squre_list = []\n",
    "# for i in range(1,11):\n",
    "#     squre_list.append(i*i)\n",
    "# squre_list\n",
    "# 문법 파괴적인 형식 \n",
    "\n",
    "## 편하게 쓰는 방식\n",
    "## 새로운 문법 방식\n",
    "squre_list = [i*i for i in range(1,11)]\n",
    "squre_list"
   ]
  },
  {
   "cell_type": "code",
   "execution_count": 90,
   "metadata": {},
   "outputs": [
    {
     "data": {
      "text/plain": [
       "[1, 9, 25, 49, 81]"
      ]
     },
     "execution_count": 90,
     "metadata": {},
     "output_type": "execute_result"
    }
   ],
   "source": [
    "odd_sq = [i*i for i in range(1,11) if i % 2 == 1 ] # 알아야할필요가있음 외우자 , 딕셔너리도 있음~ 외우자 \n",
    "odd_sq"
   ]
  },
  {
   "cell_type": "code",
   "execution_count": 95,
   "metadata": {},
   "outputs": [
    {
     "data": {
      "text/plain": [
       "[9, 36, 81, 144]"
      ]
     },
     "execution_count": 95,
     "metadata": {},
     "output_type": "execute_result"
    }
   ],
   "source": [
    "# m,n 사이에 \n",
    "# 3의 배수의 3% 0 의 제곱수로 된 리스트를 만들고\n",
    "\n",
    "# m,n = map(int, input('값을 입력하세요').split())\n",
    "\n",
    "odd_sq = [i*i for i in range(m,n) if i % 3 == 0 ]\n",
    "odd_sq"
   ]
  },
  {
   "cell_type": "code",
   "execution_count": 98,
   "metadata": {},
   "outputs": [
    {
     "data": {
      "text/plain": [
       "[2,\n",
       " 4,\n",
       " 6,\n",
       " 8,\n",
       " 10,\n",
       " 12,\n",
       " 14,\n",
       " 16,\n",
       " 18,\n",
       " 3,\n",
       " 6,\n",
       " 9,\n",
       " 12,\n",
       " 15,\n",
       " 18,\n",
       " 21,\n",
       " 24,\n",
       " 27,\n",
       " 4,\n",
       " 8,\n",
       " 12,\n",
       " 16,\n",
       " 20,\n",
       " 24,\n",
       " 28,\n",
       " 32,\n",
       " 36,\n",
       " 5,\n",
       " 10,\n",
       " 15,\n",
       " 20,\n",
       " 25,\n",
       " 30,\n",
       " 35,\n",
       " 40,\n",
       " 45,\n",
       " 6,\n",
       " 12,\n",
       " 18,\n",
       " 24,\n",
       " 30,\n",
       " 36,\n",
       " 42,\n",
       " 48,\n",
       " 54,\n",
       " 7,\n",
       " 14,\n",
       " 21,\n",
       " 28,\n",
       " 35,\n",
       " 42,\n",
       " 49,\n",
       " 56,\n",
       " 63,\n",
       " 8,\n",
       " 16,\n",
       " 24,\n",
       " 32,\n",
       " 40,\n",
       " 48,\n",
       " 56,\n",
       " 64,\n",
       " 72,\n",
       " 9,\n",
       " 18,\n",
       " 27,\n",
       " 36,\n",
       " 45,\n",
       " 54,\n",
       " 63,\n",
       " 72,\n",
       " 81]"
      ]
     },
     "execution_count": 98,
     "metadata": {},
     "output_type": "execute_result"
    }
   ],
   "source": [
    "odd_sq = [i*k for i in range(2,10) for k in range(1,10) ]\n",
    "odd_sq"
   ]
  },
  {
   "cell_type": "code",
   "execution_count": 99,
   "metadata": {},
   "outputs": [
    {
     "data": {
      "text/plain": [
       "[2,\n",
       " 4,\n",
       " 6,\n",
       " 8,\n",
       " 10,\n",
       " 12,\n",
       " 14,\n",
       " 16,\n",
       " 18,\n",
       " 3,\n",
       " 6,\n",
       " 9,\n",
       " 12,\n",
       " 15,\n",
       " 18,\n",
       " 21,\n",
       " 24,\n",
       " 27,\n",
       " 4,\n",
       " 8,\n",
       " 12,\n",
       " 16,\n",
       " 20,\n",
       " 24,\n",
       " 28,\n",
       " 32,\n",
       " 36,\n",
       " 5,\n",
       " 10,\n",
       " 15,\n",
       " 20,\n",
       " 25,\n",
       " 30,\n",
       " 35,\n",
       " 40,\n",
       " 45,\n",
       " 6,\n",
       " 12,\n",
       " 18,\n",
       " 24,\n",
       " 30,\n",
       " 36,\n",
       " 42,\n",
       " 48,\n",
       " 54,\n",
       " 7,\n",
       " 14,\n",
       " 21,\n",
       " 28,\n",
       " 35,\n",
       " 42,\n",
       " 49,\n",
       " 56,\n",
       " 63,\n",
       " 8,\n",
       " 16,\n",
       " 24,\n",
       " 32,\n",
       " 40,\n",
       " 48,\n",
       " 56,\n",
       " 64,\n",
       " 72,\n",
       " 9,\n",
       " 18,\n",
       " 27,\n",
       " 36,\n",
       " 45,\n",
       " 54,\n",
       " 63,\n",
       " 72,\n",
       " 81]"
      ]
     },
     "execution_count": 99,
     "metadata": {},
     "output_type": "execute_result"
    }
   ],
   "source": [
    "odd_sq = [i*k for i in range(2,10) for k in range(1,10) ]\n",
    "odd_sq"
   ]
  },
  {
   "cell_type": "code",
   "execution_count": 100,
   "metadata": {},
   "outputs": [
    {
     "data": {
      "text/plain": [
       "[2,\n",
       " 4,\n",
       " 6,\n",
       " 8,\n",
       " 10,\n",
       " 12,\n",
       " 14,\n",
       " 16,\n",
       " 18,\n",
       " 3,\n",
       " 6,\n",
       " 9,\n",
       " 12,\n",
       " 15,\n",
       " 18,\n",
       " 21,\n",
       " 24,\n",
       " 27,\n",
       " 4,\n",
       " 8,\n",
       " 12,\n",
       " 16,\n",
       " 20,\n",
       " 24,\n",
       " 28,\n",
       " 32,\n",
       " 36,\n",
       " 5,\n",
       " 10,\n",
       " 15,\n",
       " 20,\n",
       " 25,\n",
       " 30,\n",
       " 35,\n",
       " 40,\n",
       " 45,\n",
       " 6,\n",
       " 12,\n",
       " 18,\n",
       " 24,\n",
       " 30,\n",
       " 36,\n",
       " 42,\n",
       " 48,\n",
       " 54,\n",
       " 7,\n",
       " 14,\n",
       " 21,\n",
       " 28,\n",
       " 35,\n",
       " 42,\n",
       " 49,\n",
       " 56,\n",
       " 63,\n",
       " 8,\n",
       " 16,\n",
       " 24,\n",
       " 32,\n",
       " 40,\n",
       " 48,\n",
       " 56,\n",
       " 64,\n",
       " 72,\n",
       " 9,\n",
       " 18,\n",
       " 27,\n",
       " 36,\n",
       " 45,\n",
       " 54,\n",
       " 63,\n",
       " 72,\n",
       " 81]"
      ]
     },
     "execution_count": 100,
     "metadata": {},
     "output_type": "execute_result"
    }
   ],
   "source": [
    "odd_sq = [i*k for i in range(2,10) \\\n",
    "                for k in range(1,10)] #  2차원으로 만들수도 있다 쉽게 \n",
    "\n",
    "odd_sq"
   ]
  },
  {
   "cell_type": "code",
   "execution_count": 101,
   "metadata": {},
   "outputs": [],
   "source": [
    "# map 활용 \n",
    "# map은 각 요소 마다 주어진 함수를 적용해주는 것 \n",
    "# flutter 에서 Wrap이랑 비슷함 "
   ]
  },
  {
   "cell_type": "code",
   "execution_count": 102,
   "metadata": {},
   "outputs": [
    {
     "data": {
      "text/plain": [
       "[1, 2, 3, 4]"
      ]
     },
     "execution_count": 102,
     "metadata": {},
     "output_type": "execute_result"
    }
   ],
   "source": [
    "# 요소를 바꾸고싶으면 \n",
    "a = [1.2, 2.3,3.4,4.5]\n",
    "\n",
    "for i in range(len(a)):\n",
    "    a[i] = int(a[i])\n",
    "a    "
   ]
  },
  {
   "cell_type": "code",
   "execution_count": 104,
   "metadata": {},
   "outputs": [
    {
     "data": {
      "text/plain": [
       "[1.2, 2.3, 3.4, 4.5]"
      ]
     },
     "execution_count": 104,
     "metadata": {},
     "output_type": "execute_result"
    }
   ],
   "source": [
    "a = [1.2, 2.3,3.4,4.5]\n",
    "for element in a:\n",
    "    element = int(element)\n",
    "a    "
   ]
  },
  {
   "cell_type": "code",
   "execution_count": 107,
   "metadata": {},
   "outputs": [],
   "source": [
    "def sq(x):\n",
    "    return x*x"
   ]
  },
  {
   "cell_type": "code",
   "execution_count": 108,
   "metadata": {},
   "outputs": [
    {
     "data": {
      "text/plain": [
       "[1.44, 5.289999999999999, 11.559999999999999, 20.25]"
      ]
     },
     "execution_count": 108,
     "metadata": {},
     "output_type": "execute_result"
    }
   ],
   "source": [
    "list(map(sq, a))"
   ]
  },
  {
   "cell_type": "code",
   "execution_count": 110,
   "metadata": {},
   "outputs": [
    {
     "data": {
      "text/plain": [
       "<map at 0x22acb8ebee0>"
      ]
     },
     "execution_count": 110,
     "metadata": {},
     "output_type": "execute_result"
    }
   ],
   "source": [
    "map(lambda X: X*X, a) ## 2차함수  2제곱"
   ]
  },
  {
   "cell_type": "code",
   "execution_count": 112,
   "metadata": {},
   "outputs": [
    {
     "data": {
      "text/plain": [
       "<map at 0x22acb8eb400>"
      ]
     },
     "execution_count": 112,
     "metadata": {},
     "output_type": "execute_result"
    }
   ],
   "source": [
    "a = map(lambda X: X*X, a) ## 2차함수  2제곱\n",
    "a"
   ]
  },
  {
   "cell_type": "code",
   "execution_count": null,
   "metadata": {},
   "outputs": [],
   "source": [
    "# <map at 0x22acb8eb400> 주소가 저장이 되고 표현이안되서 리스트로 씌워준거임\n",
    "# ex) range(5) = range(0,5) '=. list(range(5)) == [0,1,2,3,4]"
   ]
  }
 ],
 "metadata": {
  "interpreter": {
   "hash": "01028a136781fc040f4ca2fc342be4af38db445d6d6e41b2bf3d0a768d20aeda"
  },
  "kernelspec": {
   "display_name": "Python 3.8.8 64-bit (conda)",
   "language": "python",
   "name": "python3"
  },
  "language_info": {
   "codemirror_mode": {
    "name": "ipython",
    "version": 3
   },
   "file_extension": ".py",
   "mimetype": "text/x-python",
   "name": "python",
   "nbconvert_exporter": "python",
   "pygments_lexer": "ipython3",
   "version": "3.8.8"
  },
  "orig_nbformat": 4
 },
 "nbformat": 4,
 "nbformat_minor": 2
}
