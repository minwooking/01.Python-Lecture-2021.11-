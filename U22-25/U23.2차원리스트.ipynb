{
 "cells": [
  {
   "cell_type": "markdown",
   "metadata": {},
   "source": [
    "# Unit23. 2차원 리스트"
   ]
  },
  {
   "cell_type": "code",
   "execution_count": null,
   "metadata": {},
   "outputs": [],
   "source": [
    "# 행열\n",
    "# 리스트를 행열로 표현 안하는 이유는 행열의 행과 열이 일정하지 않을수도있기때문에 1차원적으로 표현을하는 것 \n",
    "\n",
    "a = [[10,20],[30,40],[50,60,30]] # 3행 2열 "
   ]
  },
  {
   "cell_type": "code",
   "execution_count": null,
   "metadata": {},
   "outputs": [],
   "source": [
    "a = [\n",
    "    [10,20],\n",
    "    [30,40],\n",
    "    [50,60]\n",
    "    ] # 3행 2열 \n",
    "import numpy as np\n",
    "b = np.arange(10,61,10).reshape(3,2) # 넘파이로 표현하게 되면 행열을 표현할수있음 \n",
    "b\n",
    "import pandas as pd # 판다스로 표현하게 되면 행열을 표현할수있음 \n",
    "df = pd.DataFrame(a)\n",
    "df  "
   ]
  },
  {
   "cell_type": "code",
   "execution_count": null,
   "metadata": {},
   "outputs": [],
   "source": [
    "# indexing\n",
    "a[1][1],a[-1][-1]"
   ]
  },
  {
   "cell_type": "code",
   "execution_count": null,
   "metadata": {},
   "outputs": [],
   "source": [
    "from pprint import pprint\n",
    "pprint(a, indent=4,width=20) # indent 들여쓰기수 # width는 가로폭 "
   ]
  },
  {
   "cell_type": "markdown",
   "metadata": {},
   "source": [
    "### 23-2 2차원 리스트와 반복문"
   ]
  },
  {
   "cell_type": "markdown",
   "metadata": {},
   "source": []
  },
  {
   "cell_type": "code",
   "execution_count": null,
   "metadata": {},
   "outputs": [],
   "source": [
    "for element in a:\n",
    "    print(element)"
   ]
  },
  {
   "cell_type": "code",
   "execution_count": null,
   "metadata": {},
   "outputs": [],
   "source": [
    "a = [[10,20],[30,40],[50,60,30]] \n",
    "for sub in a:\n",
    "    for element in sub:\n",
    "        print(element)\n",
    "    print()    "
   ]
  },
  {
   "cell_type": "code",
   "execution_count": null,
   "metadata": {},
   "outputs": [],
   "source": [
    "len(a) # 왜 3이라고만 나올까\n",
    "len(a),len(a[0])"
   ]
  },
  {
   "cell_type": "code",
   "execution_count": null,
   "metadata": {},
   "outputs": [],
   "source": [
    "a = [[10,20],[30,40],[50,60,30]] \n",
    "for i in range(len(a)):     # 행의 갯수\n",
    "    for k in range(len(a(i))):\n",
    "        print(a[i][k],end=' ')"
   ]
  },
  {
   "cell_type": "code",
   "execution_count": null,
   "metadata": {},
   "outputs": [],
   "source": [
    "a = [[10,20],[30,40],[50,60,]] \n",
    "for i in range(len(a)):     # 행의 갯수\n",
    "    for k in range(len(a[i])):\n",
    "        print(a[i][k],end=' ')\n",
    "    print()"
   ]
  },
  {
   "cell_type": "code",
   "execution_count": null,
   "metadata": {},
   "outputs": [],
   "source": [
    "for row in a:\n",
    "    for element in row:\n",
    "        print(element, end=' ')\n",
    "    print()"
   ]
  },
  {
   "cell_type": "markdown",
   "metadata": {},
   "source": [
    "# 반복문으로 리스트 만들기"
   ]
  },
  {
   "cell_type": "code",
   "execution_count": null,
   "metadata": {},
   "outputs": [],
   "source": [
    "# 1차원\n",
    "\n",
    "a = []\n",
    "for i in range(5):\n",
    "    a.append(i)\n",
    "list(range(5))\n",
    "[i for i in range(5)]\n",
    "a"
   ]
  },
  {
   "cell_type": "code",
   "execution_count": null,
   "metadata": {},
   "outputs": [],
   "source": [
    "# 2차원 (3,4)\n",
    "two_d = []\n",
    "\n",
    "for i in range(3):\n",
    "    for k in range(4):\n",
    "        two_d.append()\n",
    "two_d        "
   ]
  },
  {
   "cell_type": "code",
   "execution_count": null,
   "metadata": {},
   "outputs": [],
   "source": [
    "# 2차원 (3,4)\n",
    "# two_d = []\n",
    "\n",
    "# for i in range(3):\n",
    "#     for k in range(4):\n",
    "#         two_d.append(k)\n",
    "# two_d        "
   ]
  },
  {
   "cell_type": "code",
   "execution_count": null,
   "metadata": {},
   "outputs": [],
   "source": [
    "# two_d = []\n",
    "\n",
    "for i in range(3):\n",
    "    for k in range(4):\n",
    "        two_d.append(4*i+k)\n",
    "two_d        "
   ]
  },
  {
   "cell_type": "code",
   "execution_count": null,
   "metadata": {},
   "outputs": [],
   "source": [
    "two_d = []\n",
    "for i in range(3):\n",
    "    line = []\n",
    "    for k in range(4):\n",
    "        line.append(4*i+k)\n",
    "    two_d.append(line)\n",
    "two_d    "
   ]
  },
  {
   "cell_type": "code",
   "execution_count": null,
   "metadata": {},
   "outputs": [],
   "source": [
    "# # sorted로 2차원 리스트 정렬하는거 별로다 \n",
    "# deepcopy는 좀 나중에 \n",
    "\n",
    "\n",
    "# 지뢰찾기 힌트 \n",
    "# 정사각형이 그려지고 4분면으론 나뉘어진다.\n",
    "# 지뢰가 임의로 있고 random 함수?\n",
    "# 3*3 사각형 사이에 지뢰가 있음에 따라서 개수를 파악하게 됨\n",
    "# 행과열의 인덱스에 따라서\n",
    "\n",
    "#hint padding !!!! 바깥쪽에다가 00000000있다고 치고 \n",
    "# 무조건 8개 읽게 바꿔버리기 \n",
    "# 4x4 => 6x6 로 바꿨다가 = >  4x4 로 다시 바뀔 수 있음 "
   ]
  },
  {
   "cell_type": "code",
   "execution_count": null,
   "metadata": {},
   "outputs": [],
   "source": [
    "##### 2차원 배열만 들기\n",
    "# 3행 4열 \n",
    "row,col = map(int, input().split())\n",
    "\n",
    "a = []\n",
    "\n",
    "for i in range(row):\n",
    "    b=[]\n",
    "    for k in range(col):\n",
    "        b.append(k)\n",
    "    a.append(b)\n",
    "\n",
    "print(a)\n",
    "    "
   ]
  },
  {
   "cell_type": "code",
   "execution_count": null,
   "metadata": {},
   "outputs": [],
   "source": [
    "### 리스트 표현식으로 2차원 리스트 만들기 리스트 표현식\n",
    "row,col = map(int, input().split())\n",
    "a = [[0 for i in range(col)] for i in range(row)]\n",
    "print(a)"
   ]
  },
  {
   "cell_type": "code",
   "execution_count": null,
   "metadata": {},
   "outputs": [],
   "source": [
    "row, col = map(int, input().split())\n",
    "\n",
    "a = [[0 for i in range(col)] for i in range(row)]\n",
    "\n",
    "\n",
    "# a = [[for i in range(col):print(a[i][k],end=(' '))] for k in range(row):print()] 되는지 안되는 물어보기 \n",
    "\n",
    "\n",
    "for i in range(row):\n",
    "    for k in range(col):\n",
    "        print(a[i][k],end=(' '))\n",
    "    print()\n",
    "    \n",
    "for element in a:print(element)"
   ]
  },
  {
   "cell_type": "code",
   "execution_count": null,
   "metadata": {},
   "outputs": [],
   "source": [
    "# 3차원 리스트 만들기\n",
    "\n",
    "row , col , depth = map(int, input('행, 열, 깊이를 입력하시오').split())\n",
    "\n",
    "\n",
    "#row 행\n",
    "#col 열\n",
    "#depth 깊이\n",
    "\n",
    "\n",
    "A_list = [[[i for i in range(col)]for i in range(row)] for i in range(depth)] ## 이게 맞지 이게 맞지\n",
    "A_list"
   ]
  },
  {
   "cell_type": "code",
   "execution_count": null,
   "metadata": {},
   "outputs": [],
   "source": []
  },
  {
   "cell_type": "code",
   "execution_count": null,
   "metadata": {},
   "outputs": [],
   "source": []
  }
 ],
 "metadata": {
  "interpreter": {
   "hash": "01028a136781fc040f4ca2fc342be4af38db445d6d6e41b2bf3d0a768d20aeda"
  },
  "kernelspec": {
   "display_name": "Python 3.8.8 64-bit (conda)",
   "language": "python",
   "name": "python3"
  },
  "language_info": {
   "codemirror_mode": {
    "name": "ipython",
    "version": 3
   },
   "file_extension": ".py",
   "mimetype": "text/x-python",
   "name": "python",
   "nbconvert_exporter": "python",
   "pygments_lexer": "ipython3",
   "version": "3.8.8"
  },
  "orig_nbformat": 4
 },
 "nbformat": 4,
 "nbformat_minor": 2
}
