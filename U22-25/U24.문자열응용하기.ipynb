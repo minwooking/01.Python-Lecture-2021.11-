{
 "cells": [
  {
   "cell_type": "markdown",
   "metadata": {},
   "source": [
    "# Unit 24. 문자열\n",
    "## 문자열바꾸기~ 많이 나옴 \n"
   ]
  },
  {
   "cell_type": "code",
   "execution_count": 8,
   "metadata": {},
   "outputs": [
    {
     "name": "stdout",
     "output_type": "stream",
     "text": [
      "Hello,python / Hello,world\n",
      "['Hello,', 'python']\n"
     ]
    }
   ],
   "source": [
    "s = 'Hello,python'\n",
    "c = ('Hello, python').split()\n",
    "d = s. replace('Python', 'world') # 기존에있던걸 바꿔주는\n",
    "c\n",
    "print(s,'/',d) # 인터프리터 방식이라서 그런듯 \n",
    "print(c)"
   ]
  },
  {
   "cell_type": "code",
   "execution_count": 10,
   "metadata": {},
   "outputs": [
    {
     "data": {
      "text/plain": [
       "'안녕하세요         코딩강좌입니다 '"
      ]
     },
     "execution_count": 10,
     "metadata": {},
     "output_type": "execute_result"
    }
   ],
   "source": [
    "# 영어와 구두점을 없애고 싶으면 ?\n",
    "s = '안녕하세요? PyThon 코딩 강좌입니다.'\n",
    "\n",
    "import re  # 물어보기\n",
    "\n",
    "s = '안녕하세요? Python 코딩강좌입니다.'\n",
    "re.sub('[^가-힣]',' ', s) ### 공백과 한글이 아닌 글자는 공백으로 변환시킨다~ , 정규표현식"
   ]
  },
  {
   "cell_type": "code",
   "execution_count": 14,
   "metadata": {},
   "outputs": [
    {
     "data": {
      "text/plain": [
       "'....... .......... ...'"
      ]
     },
     "execution_count": 14,
     "metadata": {},
     "output_type": "execute_result"
    }
   ],
   "source": [
    "re. sub('[0-9A-Za-z]','.','regualr expression 999') # 영문자, 숫자를 .으로 변환"
   ]
  },
  {
   "cell_type": "markdown",
   "metadata": {},
   "source": [
    "ㅇ 문자열 분리"
   ]
  },
  {
   "cell_type": "code",
   "execution_count": 25,
   "metadata": {},
   "outputs": [
    {
     "data": {
      "text/plain": [
       "['A', 'qucik', 'brown', 'fox', 'jumps', 'over', 'the', 'lazy', 'dog.']"
      ]
     },
     "execution_count": 25,
     "metadata": {},
     "output_type": "execute_result"
    }
   ],
   "source": [
    "# join 이라고 하는게 있다.\n",
    "\n",
    "s = 'A-,qucik-,brown-,fox-,jumps-,over-,the-,lazy-,dog.' # 요 단어안에 모든 알파벳이 다 들어가있음 외워두면 활용하기좋음\n",
    "\n",
    "d = s.split('-,') # 어떠한 구분자를 썼냐에 따라서 달라짐 "
   ]
  },
  {
   "cell_type": "markdown",
   "metadata": {},
   "source": [
    "ㅇ 문자열 결합"
   ]
  },
  {
   "cell_type": "code",
   "execution_count": 29,
   "metadata": {},
   "outputs": [],
   "source": [
    "d= ' '.join(d) # join 함수는 좀 다르네이  파이썬 짜증나네 "
   ]
  },
  {
   "cell_type": "markdown",
   "metadata": {},
   "source": [
    "ㅇ 대소문자 변환"
   ]
  },
  {
   "cell_type": "code",
   "execution_count": 31,
   "metadata": {},
   "outputs": [
    {
     "data": {
      "text/plain": [
       "('PYTHON', 'python')"
      ]
     },
     "execution_count": 31,
     "metadata": {},
     "output_type": "execute_result"
    }
   ],
   "source": [
    "# 소문자를 대문자로\n",
    "'python'.upper(),'PYTHON'.lower()\n",
    "\n"
   ]
  },
  {
   "cell_type": "code",
   "execution_count": 33,
   "metadata": {},
   "outputs": [
    {
     "data": {
      "text/plain": [
       "('python', 'python ', ' python')"
      ]
     },
     "execution_count": 33,
     "metadata": {},
     "output_type": "execute_result"
    }
   ],
   "source": [
    "# 불필요한 공백 삭제 이기 때문에 가운데 공백은 사라지지 않음 \n",
    "s= ' python '\n",
    "s.strip(), s.lstrip(), s.rstrip() # 공백없애버리는 문법"
   ]
  },
  {
   "cell_type": "code",
   "execution_count": 35,
   "metadata": {},
   "outputs": [
    {
     "data": {
      "text/plain": [
       "'python'"
      ]
     },
     "execution_count": 35,
     "metadata": {},
     "output_type": "execute_result"
    }
   ],
   "source": [
    "import string\n",
    "string.punctuation # 특수문자들 집합이고. 특수문자들만 끄집어낼때 사용함\n",
    "',=python.!'.strip(string.punctuation)"
   ]
  },
  {
   "cell_type": "markdown",
   "metadata": {},
   "source": [
    "- Method Chaining"
   ]
  },
  {
   "cell_type": "code",
   "execution_count": 37,
   "metadata": {},
   "outputs": [
    {
     "data": {
      "text/plain": [
       "['A', ',qucik', ',brown', ',fox', ',jumps', ',over', ',the', ',lazy', ',dog.']"
      ]
     },
     "execution_count": 37,
     "metadata": {},
     "output_type": "execute_result"
    }
   ],
   "source": [
    "s = 'A-,qucik-,brown-,fox-,jumps-,over-,the-,lazy-,dog.' # 요 단어안에 모든 알파벳이 다 들어가있음 외워두면 활용하기좋음\n",
    "' '.join(s.split('-,')) # 결합해서 다시 나누기 알아두면 좋음\n",
    "s. split('-')"
   ]
  },
  {
   "cell_type": "code",
   "execution_count": 38,
   "metadata": {},
   "outputs": [
    {
     "data": {
      "text/plain": [
       "'PYTHON'"
      ]
     },
     "execution_count": 38,
     "metadata": {},
     "output_type": "execute_result"
    }
   ],
   "source": [
    "',=python.!'.lstrip(',=').rstrip('.!').upper() ## 메소드 체이닝 메소드 합쳐서하는거"
   ]
  },
  {
   "cell_type": "markdown",
   "metadata": {},
   "source": [
    "ㅇ 문자열 위치찾기"
   ]
  },
  {
   "cell_type": "code",
   "execution_count": 40,
   "metadata": {},
   "outputs": [
    {
     "data": {
      "text/plain": [
       "-1"
      ]
     },
     "execution_count": 40,
     "metadata": {},
     "output_type": "execute_result"
    }
   ],
   "source": [
    "'apple pineapple'.find('pl') # apple pineapple이라는 문자열 에서 pl이라는 문자을 찾겠다.\n",
    "\n",
    "'apple'.find('xx') # 어떠한 문장이나 어떠한 단어중에 -1이 나온다는건 없다는 이야기이다. \n",
    "                   # 어떠한 단어를포함하고 있는지\n",
    "\n"
   ]
  },
  {
   "cell_type": "code",
   "execution_count": 41,
   "metadata": {},
   "outputs": [
    {
     "data": {
      "text/plain": [
       "2"
      ]
     },
     "execution_count": 41,
     "metadata": {},
     "output_type": "execute_result"
    }
   ],
   "source": [
    "'apple pineapple'.find('pl') # apple pineapple이라는 문자열 에서 pl이라는 문자을 찾겠다."
   ]
  },
  {
   "cell_type": "code",
   "execution_count": 42,
   "metadata": {},
   "outputs": [
    {
     "data": {
      "text/plain": [
       "2"
      ]
     },
     "execution_count": 42,
     "metadata": {},
     "output_type": "execute_result"
    }
   ],
   "source": [
    "'apple pineapple'.index('pl') # apple pineapple이라는 문자열 에서 pl이라는 문자을 찾겠다."
   ]
  },
  {
   "cell_type": "code",
   "execution_count": 43,
   "metadata": {},
   "outputs": [
    {
     "data": {
      "text/plain": [
       "-1"
      ]
     },
     "execution_count": 43,
     "metadata": {},
     "output_type": "execute_result"
    }
   ],
   "source": [
    "'apple'.find('xx') # 어떠한 문장이나 어떠한 단어중에 -1이 나온다는건 없다는 이야기이다. "
   ]
  },
  {
   "cell_type": "code",
   "execution_count": 44,
   "metadata": {},
   "outputs": [
    {
     "ename": "ValueError",
     "evalue": "substring not found",
     "output_type": "error",
     "traceback": [
      "\u001b[1;31m---------------------------------------------------------------------------\u001b[0m",
      "\u001b[1;31mValueError\u001b[0m                                Traceback (most recent call last)",
      "\u001b[1;32m<ipython-input-44-bee30b937b79>\u001b[0m in \u001b[0;36m<module>\u001b[1;34m\u001b[0m\n\u001b[1;32m----> 1\u001b[1;33m \u001b[1;34m'apple'\u001b[0m\u001b[1;33m.\u001b[0m\u001b[0mindex\u001b[0m\u001b[1;33m(\u001b[0m\u001b[1;34m'xx'\u001b[0m\u001b[1;33m)\u001b[0m \u001b[1;31m# 어떠한 문장이나 어떠한 단어중에 -1이 나온다는건 없다는 이야기이다.\u001b[0m\u001b[1;33m\u001b[0m\u001b[1;33m\u001b[0m\u001b[0m\n\u001b[0m",
      "\u001b[1;31mValueError\u001b[0m: substring not found"
     ]
    }
   ],
   "source": [
    "'apple'.index('xx') # 어떠한 문장이나 어떠한 단어중에 -1이 나온다는건 없다는 이야기이다. "
   ]
  },
  {
   "cell_type": "code",
   "execution_count": 45,
   "metadata": {},
   "outputs": [
    {
     "data": {
      "text/plain": [
       "2"
      ]
     },
     "execution_count": 45,
     "metadata": {},
     "output_type": "execute_result"
    }
   ],
   "source": [
    "# 문자열 갯수 세기 \n",
    "'apple puneapple'.count('apple')"
   ]
  },
  {
   "cell_type": "code",
   "execution_count": 46,
   "metadata": {},
   "outputs": [
    {
     "data": {
      "text/plain": [
       "5"
      ]
     },
     "execution_count": 46,
     "metadata": {},
     "output_type": "execute_result"
    }
   ],
   "source": [
    "'apple puneapple'.count('p')"
   ]
  },
  {
   "cell_type": "code",
   "execution_count": 49,
   "metadata": {},
   "outputs": [
    {
     "data": {
      "text/plain": [
       "'python    '"
      ]
     },
     "execution_count": 49,
     "metadata": {},
     "output_type": "execute_result"
    }
   ],
   "source": [
    "s = 'python'\n",
    "f'{s:10s}'"
   ]
  },
  {
   "cell_type": "code",
   "execution_count": 50,
   "metadata": {},
   "outputs": [
    {
     "data": {
      "text/plain": [
       "'   3:03'"
      ]
     },
     "execution_count": 50,
     "metadata": {},
     "output_type": "execute_result"
    }
   ],
   "source": [
    "d = 3\n",
    "f'{d:4d}:{d:02d}'"
   ]
  },
  {
   "cell_type": "code",
   "execution_count": 55,
   "metadata": {},
   "outputs": [
    {
     "name": "stdout",
     "output_type": "stream",
     "text": [
      "오늘은2021-03-08입니다.\n"
     ]
    }
   ],
   "source": [
    "year, month, day = 2021, 3, 8\n",
    "\n",
    "print(f'오늘은{year}-{month:02d}-{day:02d}입니다.')"
   ]
  },
  {
   "cell_type": "code",
   "execution_count": 57,
   "metadata": {},
   "outputs": [
    {
     "data": {
      "text/plain": [
       "'이 물건의 가격은     36,000입니다.'"
      ]
     },
     "execution_count": 57,
     "metadata": {},
     "output_type": "execute_result"
    }
   ],
   "source": [
    "price = 36000\n",
    "f'이 물건의 가격은 {price:10,d}입니다.' # 1000 단위 구분기호"
   ]
  },
  {
   "cell_type": "code",
   "execution_count": 59,
   "metadata": {},
   "outputs": [
    {
     "data": {
      "text/plain": [
       "'파이값은    3.14159입니다.'"
      ]
     },
     "execution_count": 59,
     "metadata": {},
     "output_type": "execute_result"
    }
   ],
   "source": [
    "import math\n",
    "f'파이값은 {math.pi:10.5f}입니다.'  # 5자리 까지 표현을 해라"
   ]
  },
  {
   "cell_type": "code",
   "execution_count": null,
   "metadata": {},
   "outputs": [],
   "source": []
  }
 ],
 "metadata": {
  "interpreter": {
   "hash": "01028a136781fc040f4ca2fc342be4af38db445d6d6e41b2bf3d0a768d20aeda"
  },
  "kernelspec": {
   "display_name": "Python 3.8.8 64-bit (conda)",
   "language": "python",
   "name": "python3"
  },
  "language_info": {
   "codemirror_mode": {
    "name": "ipython",
    "version": 3
   },
   "file_extension": ".py",
   "mimetype": "text/x-python",
   "name": "python",
   "nbconvert_exporter": "python",
   "pygments_lexer": "ipython3",
   "version": "3.8.8"
  },
  "orig_nbformat": 4
 },
 "nbformat": 4,
 "nbformat_minor": 2
}
