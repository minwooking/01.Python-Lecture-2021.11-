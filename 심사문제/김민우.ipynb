{
 "cells": [
  {
   "cell_type": "markdown",
   "metadata": {},
   "source": [
    "# 11번"
   ]
  },
  {
   "cell_type": "code",
   "execution_count": 1,
   "metadata": {},
   "outputs": [
    {
     "name": "stdout",
     "output_type": "stream",
     "text": [
      "\n",
      "3\n",
      "3\n",
      "3\n"
     ]
    }
   ],
   "source": [
    "num = int(input('입력'))\n",
    "\n",
    "print()\n",
    "for i in range(num):\n",
    "    print(num)\n"
   ]
  },
  {
   "cell_type": "markdown",
   "metadata": {},
   "source": [
    "# 12번 답"
   ]
  },
  {
   "cell_type": "code",
   "execution_count": 19,
   "metadata": {},
   "outputs": [
    {
     "name": "stdout",
     "output_type": "stream",
     "text": [
      "6\n"
     ]
    }
   ],
   "source": [
    "sum_sub = 0\n",
    "while 1:\n",
    "    num = int(input())\n",
    "    if num < 0:\n",
    "        break\n",
    "    sum_sub += num\n",
    "print(sum_sub)"
   ]
  },
  {
   "cell_type": "markdown",
   "metadata": {},
   "source": [
    "# 13번 답"
   ]
  },
  {
   "cell_type": "code",
   "execution_count": 28,
   "metadata": {},
   "outputs": [
    {
     "name": "stdout",
     "output_type": "stream",
     "text": [
      "원리금은1076890원 입니다.\n"
     ]
    }
   ],
   "source": [
    "def compound_amount(P,r,t):\n",
    "    return P*((1+r)**t)\n",
    "print(f'원리금은{int(compound_amount(1000000,1/40,3))}원 입니다.')\n",
    "\n"
   ]
  },
  {
   "cell_type": "markdown",
   "metadata": {},
   "source": [
    "# 14번 답"
   ]
  },
  {
   "cell_type": "code",
   "execution_count": 232,
   "metadata": {},
   "outputs": [
    {
     "name": "stdout",
     "output_type": "stream",
     "text": [
      "15\n"
     ]
    }
   ],
   "source": [
    "def sumOfDigits(num):\n",
    "    num_sub = num\n",
    "    digit = 0\n",
    "    for i in range(num):\n",
    "        num_sub2 = num_sub  % 10\n",
    "        num_sub = num_sub // 10    \n",
    "        digit += num_sub2\n",
    "    return digit\n",
    "\n",
    "num = int(input())\n",
    "print(sumOfDigits(num))\n",
    "# 153 입력시 9 나옴 "
   ]
  },
  {
   "cell_type": "markdown",
   "metadata": {},
   "source": [
    "# 15번 답"
   ]
  },
  {
   "cell_type": "code",
   "execution_count": 235,
   "metadata": {},
   "outputs": [
    {
     "data": {
      "text/plain": [
       "[False,\n",
       " False,\n",
       " False,\n",
       " False,\n",
       " 11,\n",
       " 13,\n",
       " False,\n",
       " 17,\n",
       " 19,\n",
       " False,\n",
       " 23,\n",
       " False,\n",
       " False,\n",
       " 29,\n",
       " 31,\n",
       " False,\n",
       " False,\n",
       " 37,\n",
       " False,\n",
       " 41,\n",
       " 43,\n",
       " False,\n",
       " 47,\n",
       " False,\n",
       " False,\n",
       " 53,\n",
       " False,\n",
       " False,\n",
       " 59,\n",
       " 61,\n",
       " False,\n",
       " False,\n",
       " 67,\n",
       " False,\n",
       " 71,\n",
       " 73,\n",
       " False,\n",
       " False,\n",
       " 79,\n",
       " False,\n",
       " 83,\n",
       " False,\n",
       " False,\n",
       " 89,\n",
       " False,\n",
       " False,\n",
       " False,\n",
       " 97,\n",
       " False]"
      ]
     },
     "execution_count": 235,
     "metadata": {},
     "output_type": "execute_result"
    }
   ],
   "source": [
    "# 1에서부터 100까지의 소수 구하기 \n",
    "prime_number = 100\n",
    "num_list = [i for i in range(2,prime_number+1) if not i % 2 ==0]\n",
    "\n",
    "for i in range(len(num_list)):\n",
    "    for k in range(3,11):\n",
    "        if num_list[i] % k ==0:\n",
    "            num_list[i] = False\n",
    "num_list"
   ]
  },
  {
   "cell_type": "markdown",
   "metadata": {},
   "source": [
    "# 16번 문제"
   ]
  },
  {
   "cell_type": "code",
   "execution_count": 229,
   "metadata": {},
   "outputs": [
    {
     "name": "stdout",
     "output_type": "stream",
     "text": [
      "2015--10--05\n",
      "2015--10--06\n"
     ]
    }
   ],
   "source": [
    "import datetime\n",
    "# year month day\n",
    "\n",
    "year,month,day = input().split()\n",
    "a = [year,month,day]\n",
    "b = \"--\".join(a)\n",
    "c = list(map(int,a))\n",
    "c[-1]=c[-1]+1\n",
    "c.append(0)\n",
    "f = c[-2]\n",
    "c[-2] = c[-1]\n",
    "c[-1] = f\n",
    "e = list(map(str,c))\n",
    "e[-2] =  e[-2]+ e[-1]\n",
    "del e[-1]\n",
    "f = \"--\".join(e)\n",
    "print(b)\n",
    "print(f)\n"
   ]
  },
  {
   "cell_type": "markdown",
   "metadata": {},
   "source": [
    "# 17번 답"
   ]
  },
  {
   "cell_type": "code",
   "execution_count": 132,
   "metadata": {},
   "outputs": [
    {
     "name": "stdout",
     "output_type": "stream",
     "text": [
      "14.142\n"
     ]
    }
   ],
   "source": [
    "import math\n",
    "a,b = map(int,input().split())\n",
    "def hypotenuse(x,y):\n",
    "    return math.sqrt((x*x)+(y*y)) \n",
    "print(f'{hypotenuse(a,b):.3f}')"
   ]
  },
  {
   "cell_type": "markdown",
   "metadata": {},
   "source": [
    "# 18번답"
   ]
  },
  {
   "cell_type": "code",
   "execution_count": 248,
   "metadata": {},
   "outputs": [
    {
     "name": "stdout",
     "output_type": "stream",
     "text": [
      "합이9입니다.\n",
      "합이7입니다.\n",
      "합이5입니다.\n",
      "합이5입니다.\n",
      "합이11입니다.\n",
      "합이 10이상이 나왔으므로 게임을 종료합니다.\n"
     ]
    }
   ],
   "source": [
    "import random as rd\n",
    "\n",
    "while 1:\n",
    "    x = rd.randint(1,7)\n",
    "    y = rd.randint(1,7)\n",
    "    z = x+y\n",
    "    print(f'합이{z}입니다.')\n",
    "    if z >= 10:\n",
    "        print('합이 10이상이 나왔으므로 게임을 종료합니다.')\n",
    "        break"
   ]
  },
  {
   "cell_type": "markdown",
   "metadata": {},
   "source": [
    "# 19번답"
   ]
  },
  {
   "cell_type": "code",
   "execution_count": 146,
   "metadata": {},
   "outputs": [
    {
     "name": "stdout",
     "output_type": "stream",
     "text": [
      "원래시간은4시30분 이고 \n",
      "           빠른 알람 시간은3시45분입니다\n"
     ]
    }
   ],
   "source": [
    "hour,minute = map(int,input().split())\n",
    "# 만약에 3시 00분으로 맞춰놓으면 2시 15분으로해야함 \n",
    "hour_minute = 60*hour\n",
    "sum_minute = hour_minute + minute\n",
    "sum_minute -= 45\n",
    "count = 0\n",
    "# hour1 = sum_minute % 6\n",
    "# minute1 = (sum_minute // 60)\n",
    "while 1:\n",
    "    if sum_minute < 60:\n",
    "        break\n",
    "    sum_minute -= 60\n",
    "    count +=1\n",
    "\n",
    "print(f'''원래시간은{hour}시{minute}분 이고 \n",
    "           빠른 알람 시간은{count}시{sum_minute}분입니다''')\n"
   ]
  },
  {
   "cell_type": "markdown",
   "metadata": {},
   "source": [
    "# 20번 정답"
   ]
  },
  {
   "cell_type": "code",
   "execution_count": 254,
   "metadata": {},
   "outputs": [
    {
     "name": "stdout",
     "output_type": "stream",
     "text": [
      "in 15\n"
     ]
    },
    {
     "data": {
      "text/plain": [
       "{'ipsum': 3, 'sit': 8, 'amet': 8, 'eget': 10, 'in': 15}"
      ]
     },
     "execution_count": 254,
     "metadata": {},
     "output_type": "execute_result"
    }
   ],
   "source": [
    "import string\n",
    "with open('lipsum.txt') as file:\n",
    "    lines = file.readlines()\n",
    "\n",
    "a = lines[0].split()\n",
    "b = lines[1].split()\n",
    "c = lines[2].split()\n",
    "d = lines[3].split()\n",
    "e = lines[4].split()\n",
    "f = a+b+c+d+e\n",
    "large = 0\n",
    "large_word = ' '\n",
    "dict = {}\n",
    "\n",
    "for i in range(len(f)):\n",
    "    f[i]=f[i].lower().strip(string.punctuation)\n",
    "\n",
    "for i in range(1,len(f)):\n",
    "    f.count(f[i])\n",
    "    # print(a[i],a.count(a[i]))\n",
    "    if large <= f.count(f[i]):\n",
    "            large = f.count(f[i])\n",
    "            large_word = f[i]\n",
    "            dict[f[i]] =f.count(f[i]) \n",
    "\n",
    "print(large_word,large)\n",
    "dict"
   ]
  },
  {
   "cell_type": "code",
   "execution_count": 160,
   "metadata": {},
   "outputs": [
    {
     "data": {
      "text/plain": [
       "5"
      ]
     },
     "execution_count": 160,
     "metadata": {},
     "output_type": "execute_result"
    }
   ],
   "source": []
  },
  {
   "cell_type": "code",
   "execution_count": null,
   "metadata": {},
   "outputs": [],
   "source": []
  }
 ],
 "metadata": {
  "interpreter": {
   "hash": "b3ba2566441a7c06988d0923437866b63cedc61552a5af99d1f4fb67d367b25f"
  },
  "kernelspec": {
   "display_name": "Python 3.8.8 64-bit ('base': conda)",
   "language": "python",
   "name": "python3"
  },
  "language_info": {
   "codemirror_mode": {
    "name": "ipython",
    "version": 3
   },
   "file_extension": ".py",
   "mimetype": "text/x-python",
   "name": "python",
   "nbconvert_exporter": "python",
   "pygments_lexer": "ipython3",
   "version": "3.8.8"
  },
  "orig_nbformat": 4
 },
 "nbformat": 4,
 "nbformat_minor": 2
}
