{
 "cells": [
  {
   "cell_type": "markdown",
   "metadata": {},
   "source": [
    "### u22\n",
    "표준 입력으로 정수 두 개가 입력됩니다(첫 번째 입력 값의 범위는 1~20, 두 번째 입력 값의 범위는 10~30이며 첫 번째 입력 값은 두 번째 입력 값보다 항상 작습니다).\n",
    "첫 번째 정수부터 두 번째 정수까지를 지수로 하는 2의 거듭제곱 리스트를 출력하는 프로그램을 만드세요(input에서 안내 문자열은 출력하지 않아야 합니다).\n",
    "단, 리스트의 두 번째 요소와 뒤에서 두 번째 요소는 삭제한 뒤 출력하세요. 출력 결과는 리스트 형태라야 합니다."
   ]
  },
  {
   "cell_type": "code",
   "execution_count": 1,
   "metadata": {},
   "outputs": [
    {
     "data": {
      "text/plain": [
       "[1024, 4096, 8192, 16384, 32768, 65536, 131072, 262144, 1048576]"
      ]
     },
     "execution_count": 1,
     "metadata": {},
     "output_type": "execute_result"
    }
   ],
   "source": [
    "a, b = map(int, input().split())\n",
    "sq_list = [2 ** i for i in range(a, b+1)]\n",
    "del sq_list[1]\n",
    "del sq_list[-2]\n",
    "sq_list"
   ]
  },
  {
   "cell_type": "markdown",
   "metadata": {},
   "source": [
    "### u23 지뢰찾기"
   ]
  },
  {
   "cell_type": "code",
   "execution_count": 2,
   "metadata": {},
   "outputs": [
    {
     "name": "stdout",
     "output_type": "stream",
     "text": [
      ". . * . . * * * \n",
      "* . . . * . . . \n",
      "* * . * . . . . \n",
      "* . . . . * . * \n",
      ". . * . . . * * \n",
      ". * . . * . . . \n",
      "* * . . * . * * \n",
      ". * * . . * . . \n"
     ]
    }
   ],
   "source": [
    "import random\n",
    "N = 8\n",
    "mines = []\n",
    "for _ in range(N):\n",
    "    row = ''\n",
    "    for _ in range(N):\n",
    "        if random.random() > 0.7:\n",
    "            row += '*'\n",
    "        else:\n",
    "            row += '.'\n",
    "    mines.append(row)\n",
    "\n",
    "for row in mines:\n",
    "    for element in row:\n",
    "        print(element, end=' ')\n",
    "    print()"
   ]
  },
  {
   "cell_type": "code",
   "execution_count": 5,
   "metadata": {},
   "outputs": [],
   "source": [
    "def print_mines(mat):\n",
    "    for row in mat:\n",
    "        for element in row:\n",
    "            print(element, end=' ')\n",
    "        print()"
   ]
  },
  {
   "cell_type": "code",
   "execution_count": 10,
   "metadata": {},
   "outputs": [
    {
     "name": "stdout",
     "output_type": "stream",
     "text": [
      "* * * . . . \n",
      ". . . . . * \n",
      ". . . * * . \n",
      ". * * . . . \n",
      ". . . . . . \n",
      ". . * * . . \n"
     ]
    }
   ],
   "source": [
    "N = int(input())\n",
    "mines = [['*' if random.random() > 0.7 else '.' for _ in range(N)] for _ in range(N)]\n",
    "print_mines(mines)"
   ]
  },
  {
   "cell_type": "code",
   "execution_count": 11,
   "metadata": {},
   "outputs": [
    {
     "name": "stdout",
     "output_type": "stream",
     "text": [
      "* * * . . . \n",
      ". . . . . * \n",
      ". . . * * . \n",
      ". * * . . . \n",
      ". . . . . . \n",
      ". . * * . . \n"
     ]
    }
   ],
   "source": [
    "print_mines(mines)"
   ]
  },
  {
   "cell_type": "code",
   "execution_count": 12,
   "metadata": {},
   "outputs": [
    {
     "name": "stdout",
     "output_type": "stream",
     "text": [
      ". . . . . . . . \n",
      ". * * * . . . . \n",
      ". . . . . . * . \n",
      ". . . . * * . . \n",
      ". . * * . . . . \n",
      ". . . . . . . . \n",
      ". . . * * . . . \n",
      ". . . . . . . . \n"
     ]
    }
   ],
   "source": [
    "pad_mines = []\n",
    "pad_mines.append('.' * (N+2))\n",
    "for row in mines:\n",
    "    line = '.'\n",
    "    for element in row:\n",
    "        line += element\n",
    "    line += '.'\n",
    "    pad_mines.append(line)\n",
    "pad_mines.append('.' * (N+2))\n",
    "print_mines(pad_mines)"
   ]
  },
  {
   "cell_type": "code",
   "execution_count": 13,
   "metadata": {},
   "outputs": [
    {
     "name": "stdout",
     "output_type": "stream",
     "text": [
      "* * * 1 1 1 \n",
      "2 3 3 3 3 * \n",
      "1 2 3 * * 2 \n",
      "1 * * 3 2 1 \n",
      "1 3 4 3 1 0 \n",
      "0 1 * * 1 0 \n"
     ]
    }
   ],
   "source": [
    "final_mines = []\n",
    "for i in range(1, N+1):\n",
    "    row = ''\n",
    "    for k in range(1, N+1):\n",
    "        if pad_mines[i][k] == '*':\n",
    "            row += '*'\n",
    "        else:\n",
    "            count = (pad_mines[i-1][k-1]=='*') + (pad_mines[i-1][k]=='*') + (pad_mines[i-1][k+1]=='*') + \\\n",
    "                    (pad_mines[i][k-1]=='*') +                              (pad_mines[i][k+1]=='*') + \\\n",
    "                    (pad_mines[i+1][k-1]=='*') + (pad_mines[i+1][k]=='*') + (pad_mines[i+1][k+1]=='*')\n",
    "            row += str(count)\n",
    "    final_mines.append(row)\n",
    "\n",
    "print_mines(final_mines)"
   ]
  },
  {
   "cell_type": "code",
   "execution_count": null,
   "metadata": {},
   "outputs": [],
   "source": []
  }
 ],
 "metadata": {
  "interpreter": {
   "hash": "b25c465b1c18d956483426a8691b47b486d8d9b6837da05c7a56549aad74826f"
  },
  "kernelspec": {
   "display_name": "Python 3.8.8 64-bit ('base': conda)",
   "language": "python",
   "name": "python3"
  },
  "language_info": {
   "codemirror_mode": {
    "name": "ipython",
    "version": 3
   },
   "file_extension": ".py",
   "mimetype": "text/x-python",
   "name": "python",
   "nbconvert_exporter": "python",
   "pygments_lexer": "ipython3",
   "version": "3.8.8"
  },
  "orig_nbformat": 4
 },
 "nbformat": 4,
 "nbformat_minor": 2
}
