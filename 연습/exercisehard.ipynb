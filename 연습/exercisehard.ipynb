{
 "cells": [
  {
   "cell_type": "code",
   "execution_count": null,
   "metadata": {},
   "outputs": [],
   "source": [
    "### 함수 만들기\n",
    "def is_palindrome(n):  # 대칭수 찾기 \n",
    "    s = str(n)\n",
    "    return s == s[::-1] \n",
    "\n",
    "Max_num = 0\n",
    "for i in range(100,1000):\n",
    "    for k in range(i, 1000):\n",
    "        mul = i * k\n",
    "        if is_palindrome(mul):\n",
    "            if mul > Max_num:\n",
    "                Max_num = mul\n",
    "                num1,num2 = i,k\n",
    "print(Max_num,num1,num2)    "
   ]
  },
  {
   "cell_type": "code",
   "execution_count": null,
   "metadata": {},
   "outputs": [],
   "source": []
  },
  {
   "cell_type": "markdown",
   "metadata": {},
   "source": [
    "# 이 파일은 연습용입니다.\n",
    "#\n",
    "####  github.com에 올라가지 않습니다.\n"
   ]
  },
  {
   "cell_type": "code",
   "execution_count": null,
   "metadata": {},
   "outputs": [],
   "source": [
    "\n",
    "\n",
    "\n",
    "Max_num = 0\n",
    "for i in range(100,1000):\n",
    "    for k in range(i, 1000):\n",
    "        mul = i * k\n",
    "        if is_palindrome(mul):\n",
    "            if mul > Max_num:\n",
    "                Max_num = mul\n",
    "                num1 = i\n",
    "                num2 = k\n",
    "print(Max_num,num1,num2)    "
   ]
  },
  {
   "cell_type": "markdown",
   "metadata": {},
   "source": []
  },
  {
   "cell_type": "code",
   "execution_count": null,
   "metadata": {},
   "outputs": [],
   "source": [
    "Max_num = 0  # 추가하는걸 안함 \n",
    "for i in range(100,1000): \n",
    "    for k in range(i, 1000):\n",
    "        mul = i * k\n",
    "        if is_palindrome(i*k):\n",
    "            if mul > Max_num:\n",
    "                Max_num = mul\n",
    "                num1,num2 = i,k\n",
    "print(Max_num,num1,num2)    "
   ]
  },
  {
   "cell_type": "code",
   "execution_count": null,
   "metadata": {},
   "outputs": [],
   "source": [
    "국어,영어,수학, 과학 = map(int,input().split())\n",
    "    if not 0<=(국어or영어or수학or과학)<=100:\n",
    "        print(\"잘못된 점수\")\n",
    "    elif (국어,영어,수학,과학)/4 >=80:\n",
    "        print('합격')\n",
    "    else:\n",
    "        print('불합격')"
   ]
  },
  {
   "cell_type": "code",
   "execution_count": null,
   "metadata": {},
   "outputs": [],
   "source": [
    "korean,english,math, science = map(int,input().split())\n",
    "    if 0>(국어or영어or수학or과학)or(국어or영어or수학or과학)>100:\n",
    "        print(\"잘못된 점수\")\n",
    "    elif (국어,영어,수학,과학)/4 >=80:\n",
    "        print('합격')\n",
    "    else:\n",
    "        print('불합격')"
   ]
  },
  {
   "cell_type": "code",
   "execution_count": null,
   "metadata": {},
   "outputs": [],
   "source": [
    "국어,영어,수학, 과학 = map(int,input().split())\n",
    "    \n",
    "if 0>(국어 or 영어 or 수학 or 과학 )or(국어 or 영어 or 수학 or 과학 )>100:\n",
    "    print(\"잘못된 점수\")\n",
    "    if (국어,영어,수학,과학)/4 >=80:\n",
    "        print('합격')\n",
    "    else:\n",
    "        print('불합격') "
   ]
  },
  {
   "cell_type": "code",
   "execution_count": null,
   "metadata": {},
   "outputs": [],
   "source": [
    "국어,영어,수학, 과학 = map(int,input().split())\n",
    "    \n",
    "if 0>(국어 or 영어 or 수학 or 과학 )or(국어 or 영어 or 수학 or 과학 )>100:\n",
    "    print(\"잘못된 점수\")\n",
    "elif (국어+영어+수학+과학)/4 >=80:\n",
    "    print('합격')\n",
    "else:   \n",
    "    print('불합격') "
   ]
  },
  {
   "cell_type": "code",
   "execution_count": null,
   "metadata": {},
   "outputs": [],
   "source": [
    "국어,영어,수학, 과학 = map(int,input().split())\n",
    "    \n",
    "if (0>=국어 or 0>=영어 or 0>=수학 or 0>=과학)or(국어>100 or 영어>100 or 수학>100 or 과학>100):\n",
    "    print(\"잘못된 점수\")\n",
    "elif (국어+영어+수학+과학)/4 >=80:\n",
    "    print('합격')\n",
    "else:   \n",
    "    print('불합격') "
   ]
  },
  {
   "cell_type": "code",
   "execution_count": null,
   "metadata": {},
   "outputs": [],
   "source": [
    "age = int(input())\n",
    "balance = 9000 # 교통카드 잔액\n",
    "\n",
    "if 7<=age<=12 :\n",
    "    balance -= 650\n",
    "elif 13<=age<=18 :\n",
    "    balance -= 1050\n",
    "elif 19<=age:\n",
    "    balance -= 1250      \n",
    "print(balance)"
   ]
  },
  {
   "cell_type": "code",
   "execution_count": null,
   "metadata": {},
   "outputs": [],
   "source": [
    "count = int(input())\n",
    "for i in range(count):\n",
    "   pass\n",
    "\n",
    "\n"
   ]
  },
  {
   "cell_type": "code",
   "execution_count": null,
   "metadata": {},
   "outputs": [],
   "source": [
    "x = int(input())\n",
    "\n",
    "for i in range(1,10,1):\n",
    "    print(x,'*',i,'=', x*i,sep=' ')"
   ]
  },
  {
   "cell_type": "code",
   "execution_count": null,
   "metadata": {},
   "outputs": [],
   "source": [
    "x = int(input())\n",
    "\n",
    "for i in range(1,10,1):\n",
    "    print(x,' * ',i,' = ', x*i)"
   ]
  },
  {
   "cell_type": "code",
   "execution_count": null,
   "metadata": {},
   "outputs": [],
   "source": [
    "buscard = int(input())\n",
    "\n",
    "while buscard > 0:\n",
    "    print(buscard)\n",
    "    buscard -= 1350\n"
   ]
  },
  {
   "cell_type": "code",
   "execution_count": null,
   "metadata": {},
   "outputs": [],
   "source": [
    "buscard = int(input())\n",
    "\n",
    "while buscard > 0:\n",
    "    buscard -= 1350\n",
    "    if buscard < 0:\n",
    "        break\n",
    "    print(buscard)\n"
   ]
  },
  {
   "cell_type": "code",
   "execution_count": null,
   "metadata": {},
   "outputs": [],
   "source": [
    "start, stop = map(int, input().split())\n",
    " \n",
    "i = start\n",
    " \n",
    "while True:\n",
    "    if i >= stop:\n",
    "        break\n",
    "    i += 1\n",
    "    if i%10 - 3 ==0:\n",
    "        \n",
    "        continue\n",
    "    print(i, end=' ')\n",
    "   \n",
    "    "
   ]
  },
  {
   "cell_type": "code",
   "execution_count": null,
   "metadata": {},
   "outputs": [],
   "source": [
    "start, stop = map(int, input().split())\n",
    " \n",
    "i = start\n",
    " \n",
    "while True:\n",
    "    if i > stop:\n",
    "        break\n",
    "    if i%10 - 3 ==0:\n",
    "        i += 1\n",
    "        continue   \n",
    "    print(i, end=' ')\n",
    "    i += 1\n",
    "    "
   ]
  },
  {
   "cell_type": "code",
   "execution_count": null,
   "metadata": {},
   "outputs": [],
   "source": [
    "# 공백과 별을 같이 출력하고 3줄 뛰면서 보여주는거기 때문에\n",
    "# 중복행렬임 for문 두개 쓰는게 좋음 "
   ]
  },
  {
   "cell_type": "code",
   "execution_count": null,
   "metadata": {},
   "outputs": [],
   "source": [
    "for i in range(4):print(' '*(3-i),'*'*(2*i+1),)"
   ]
  },
  {
   "cell_type": "code",
   "execution_count": null,
   "metadata": {},
   "outputs": [],
   "source": [
    "x= int(input())\n",
    "for i in range(x):print(' '*(x-1-i),'*'*(2*i+1),)"
   ]
  },
  {
   "cell_type": "code",
   "execution_count": null,
   "metadata": {},
   "outputs": [],
   "source": [
    "height = int(input())\n",
    "for i in range(height):\n",
    "    for k in range(i):\n",
    "        print(' '* (height -2*(i+1)),end='')\n",
    "        print('*'* (2*k+1),end='')\n",
    "        \n",
    "    print()"
   ]
  },
  {
   "cell_type": "code",
   "execution_count": null,
   "metadata": {},
   "outputs": [],
   "source": [
    "height = int(input())\n",
    "for i in range(height):\n",
    "    for k in range(height):\n",
    "        print(' '*(height-(2*i+1)))\n",
    "        print('*' *((2*k)+1),end='')    \n",
    "print()"
   ]
  },
  {
   "cell_type": "code",
   "execution_count": null,
   "metadata": {},
   "outputs": [],
   "source": [
    "##  버스카드 클래스 만들기 정말 편한예\n",
    "\n",
    "balance = int(input())\n",
    "fare = 1350\n",
    "while balance >= fare:\n",
    "    balance -= fare\n",
    "    print(balance)"
   ]
  },
  {
   "cell_type": "code",
   "execution_count": null,
   "metadata": {},
   "outputs": [],
   "source": [
    "num1, num2 = map(int, input().split())\n",
    "result = 1\n",
    "for i in range(num1,num2,1):\n",
    "    for k in range(i):\n",
    "        result *= 2*i\n",
    "    print(result)"
   ]
  },
  {
   "cell_type": "code",
   "execution_count": null,
   "metadata": {},
   "outputs": [],
   "source": [
    "num1, num2 = map(int, input().split())\n",
    "#num3 = []\n",
    "for i in range(num1,num2,1):\n",
    "    result = 2*result "
   ]
  },
  {
   "cell_type": "code",
   "execution_count": null,
   "metadata": {},
   "outputs": [],
   "source": [
    "# 첫번째 for문에 제곱의 결과들 넣기 \n",
    "# 두번째 for문제 append 해서 넣기 \n",
    "\n",
    "start, stop = map(int, input().split())\n",
    "a = []\n",
    "for i in range(start,stop+1,1):\n",
    "    for k in range(i):\n",
    "        result = 2*result\n",
    "    a.append(result)\n",
    "    result = 1\n",
    "del a[1],a[-2]\n",
    "print(a)     "
   ]
  },
  {
   "cell_type": "code",
   "execution_count": null,
   "metadata": {},
   "outputs": [],
   "source": [
    "start, stop = map(int, input().split())\n",
    "a = [2 ** i for i in range(start, stop + 1)]\n",
    "del a[1],a[-2] \n",
    "print(a)"
   ]
  },
  {
   "cell_type": "code",
   "execution_count": null,
   "metadata": {},
   "outputs": [],
   "source": [
    "height = 2\n",
    "row = 3\n",
    "colum = 4\n",
    "a = []\n",
    "for  k in range(2):\n",
    "    b = []\n",
    "    for i in range(4): \n",
    "        c = []\n",
    "        for j in range(3):\n",
    "            c.append(0)\n",
    "        b.append(c)\n",
    "    a.append(b)\n",
    "print(a)    "
   ]
  },
  {
   "cell_type": "code",
   "execution_count": null,
   "metadata": {},
   "outputs": [],
   "source": [
    "[[[0 for col in range(3)] for row in range(4)] for depth in range(2)]"
   ]
  },
  {
   "cell_type": "code",
   "execution_count": null,
   "metadata": {},
   "outputs": [],
   "source": [
    "matrix = []\n",
    "for i in range(row):\n",
    "    matrix.append(list(input()))"
   ]
  },
  {
   "cell_type": "code",
   "execution_count": null,
   "metadata": {},
   "outputs": [],
   "source": [
    "col,row = map(int, input().split())\n",
    "\n",
    "matrix2 = []\n",
    "for k in range(col):    \n",
    "    matrix = []\n",
    "    for i in range(row):\n",
    "        matrix.append(input())\n",
    "    matrix2.append(matrix)\n",
    "    print(matrix2)\n",
    "    print()    "
   ]
  },
  {
   "cell_type": "code",
   "execution_count": null,
   "metadata": {},
   "outputs": [],
   "source": [
    "col,row = map(int, input().split())\n",
    "\n",
    "for k in row:\n",
    "    a = []\n",
    "    for i in col:\n",
    "        b = []\n",
    "        b.append(i)\n",
    "    a.append(b)\n",
    "    print(a)"
   ]
  },
  {
   "cell_type": "code",
   "execution_count": null,
   "metadata": {},
   "outputs": [],
   "source": [
    "col,row = map(int, input().split())\n",
    "for i in range(col): \n",
    "    a = []\n",
    "    b = []\n",
    "    for j in range(row):\n",
    "        b.append(j)\n",
    "    a.append(b)\n",
    "    print(a)"
   ]
  },
  {
   "cell_type": "code",
   "execution_count": null,
   "metadata": {},
   "outputs": [],
   "source": [
    "# col,row = map(int, input().split())\n",
    "# two_d = []\n",
    "# for i in range(row):\n",
    "#     line = []\n",
    "#     for k in range(col):\n",
    "#         line.append(input())\n",
    "#     two_d.append(line)\n",
    "# two_d    "
   ]
  },
  {
   "cell_type": "code",
   "execution_count": null,
   "metadata": {},
   "outputs": [],
   "source": [
    "col,row = map(int, input().split())\n",
    "matrix1 = []\n",
    "for k in range(col):\n",
    "    matrix = []\n",
    "    for i in range(row):\n",
    "        matrix.append(list(input()))                      \n",
    "    matrix1.append(matrix)\n",
    "for k in range(col):\n",
    "    for i in range(row):\n",
    "        if   matrix[k][i]== '*':\n",
    "            matrix[k][i]= '*'\n",
    "        else:\n",
    "            matrix[i][k] = 0\n",
    "            if matrix[i-1][k-1]== '*':      \n",
    "                matrix[i][k] += 1\n",
    "            elif matrix[i-1][k  ]== '*':\n",
    "                matrix[i][k] += 1\n",
    "            elif matrix[i-1][k+1]== '*':\n",
    "                matrix[i][k] += 1\n",
    "            elif matrix[i][k-1  ]== '*':\n",
    "                matrix[i][k] += 1\n",
    "            elif matrix[i][k+1  ]== '*':\n",
    "                matrix[i][k] += 1\n",
    "            elif matrix[i+1][k-1]== '*':\n",
    "                matrix[i][k] += 1\n",
    "            elif matrix[i+1][k+1]== '*':\n",
    "                matrix[i][k] += 1\n",
    "            elif matrix[i+1][k+1]== '*':\n",
    "                matrix[i][k] += 1 \n",
    "print(matrix1)    \n",
    "    # 이후 출력해서 끝 "
   ]
  },
  {
   "cell_type": "code",
   "execution_count": null,
   "metadata": {},
   "outputs": [],
   "source": [
    "# count  = (pad_mines[i-1][k-1]=='*') + (pad_mines[i-1][k]=='*') + (pad_mines[i-1][k+1]=='*') + \\\n",
    "#          (pad_mines[i][k-1]=='*') + (pad_mines[i-1][k+1]=='*') + \\\n",
    "#          (pad_mines[i+1][k-1]=='*') + (pad_mines[i+1][k]=='*') + (pad_mines[i+1][k+1]=='*')"
   ]
  },
  {
   "cell_type": "code",
   "execution_count": null,
   "metadata": {},
   "outputs": [],
   "source": [
    "from datetime import date\n",
    "today = date.today()\n",
    "today\n",
    "\n",
    "a = list(range(3)) \n",
    "a[0]  = int(today.year)\n",
    "year, month, day = map(int, input().split())\n",
    "year, month, day\n",
    "today - (year-1)\n",
    "a[0] - year -1"
   ]
  },
  {
   "cell_type": "code",
   "execution_count": null,
   "metadata": {},
   "outputs": [],
   "source": [
    "### 만나이 문제 에서 중요하게 할것 datetime 함수 이용해서 입력 한 값과 비교 하기\n",
    "# f 스트링 잘 활용하기\n",
    "# if 와 for 문활용하기 ."
   ]
  },
  {
   "cell_type": "code",
   "execution_count": null,
   "metadata": {},
   "outputs": [],
   "source": [
    "# 변수를 자유롭게 하면 나머지하나는 확정!! \n",
    "# 통상적으로 많이 사용하는 방법 밖에서 False를 지정해주고 안dptj true break 를 해줄수있다.\n",
    "# 문제를 해결할시에 모든 경우의수를 생각해서 알고리즘화 시켜야 한다.\n",
    "flag = False\n",
    "for a in range(1,1000):\n",
    "    for b in range(a+1,1000):\n",
    "        c = 1000 - a - b\n",
    "        if c*c == a*a + b*b:\n",
    "            print(a,b,c)\n",
    "            flag = True\n",
    "            break\n",
    "    if flag:\n",
    "        break"
   ]
  },
  {
   "cell_type": "code",
   "execution_count": null,
   "metadata": {},
   "outputs": [],
   "source": [
    "# import string\n",
    "# a = input( )\n",
    "# A_list = a.split()\n",
    "# count_ = 0\n",
    "# for i in range(len(A_list)):\n",
    "#     if '.' in a[i]:\n",
    "#         a[i].strip('.')\n",
    "#     if ',' in a[i]:\n",
    "#         a[i].strip(',')\n",
    "\n",
    "# for elment in A_list:\n",
    "#     if elment == 'the':\n",
    "#         count_+= 1\n",
    "# print(count_)\n",
    "\n",
    "# A_list"
   ]
  },
  {
   "cell_type": "code",
   "execution_count": null,
   "metadata": {},
   "outputs": [],
   "source": [
    "import string\n",
    "a = input( )\n",
    "A_list = a.split()\n",
    "count_ = 0\n",
    "# for word in A_list:\n",
    "#     word = word.strip(string.punctuation).lower()\n",
    "#     if word == 'the' : count_ += 1\n",
    "# print(count_)\n",
    "\n",
    "\n"
   ]
  },
  {
   "cell_type": "code",
   "execution_count": null,
   "metadata": {},
   "outputs": [],
   "source": [
    "price = input()\n",
    "money_list = price.split(';')\n",
    "money_list.sort(reverse=True)\n",
    "money_list = map(int, money_list)\n",
    "for price in money_list:\n",
    "    print(f'{price:9,d}') \n"
   ]
  },
  {
   "cell_type": "code",
   "execution_count": null,
   "metadata": {},
   "outputs": [],
   "source": [
    "keys = input().split( )\n",
    "values = list(map(int, input().split( )))\n",
    " \n",
    "x = dict(zip(keys, values))\n",
    "\n",
    "for key, value in x.items():\n",
    "    if value == 30:break\n",
    "x.pop(key) # del x[key]\n",
    "for key, value in x.items():\n",
    "    if key == 'delta':break\n",
    "x.pop(value) # del x[key]\n",
    "\n",
    "\n",
    "del x['delta']\n",
    "del x[30]\n",
    "\n",
    "print(x)"
   ]
  },
  {
   "cell_type": "code",
   "execution_count": null,
   "metadata": {},
   "outputs": [],
   "source": [
    "keys = input().split( )\n",
    "values = list(map(int, input().split( )))\n",
    " \n",
    "x = dict(zip(keys, values))\n",
    "del x['delta']\n",
    "for key,value in x.items(): ### items 가 과연 뭘까 ??\n",
    "    if value == 30:\n",
    "        break\n",
    "x.pop(key)\n",
    "print(x)"
   ]
  },
  {
   "cell_type": "code",
   "execution_count": null,
   "metadata": {},
   "outputs": [],
   "source": [
    "# file = opne('hello.txt', 'r') 파일 불러오기\n",
    "# s = file.read() 읽은 내용을 저장한것\n",
    "# print(s) 저장해서 보내주는거 \n",
    "# file.close() 닫는거"
   ]
  },
  {
   "cell_type": "code",
   "execution_count": null,
   "metadata": {},
   "outputs": [],
   "source": [
    "# with open('hello.txt','r') as file:\n",
    "#     s = file.read()\n",
    "#     print(s)"
   ]
  },
  {
   "cell_type": "code",
   "execution_count": null,
   "metadata": {},
   "outputs": [],
   "source": [
    "with open('hello.txt','r') as file:\n",
    "    s = file.read()\n",
    "    print(s)"
   ]
  },
  {
   "cell_type": "markdown",
   "metadata": {},
   "source": [
    "# Q-1 별그리기"
   ]
  },
  {
   "cell_type": "code",
   "execution_count": null,
   "metadata": {},
   "outputs": [],
   "source": [
    "n = int(input())\n",
    "\n",
    "for i in range(n):\n",
    "    if i <= n // 2:\n",
    "         star = '*' * (2*i+1)\n",
    "    else:\n",
    "        star = '*' * (2 * (n-1) - 1 )\n",
    "    print(f'{star:^{n}s}') ## 센터링 이라는 뭐지 ??신기한 코드 \n",
    "    "
   ]
  },
  {
   "cell_type": "markdown",
   "metadata": {},
   "source": [
    "# Q-5 제곱의합, 합의제곱"
   ]
  },
  {
   "cell_type": "code",
   "execution_count": null,
   "metadata": {},
   "outputs": [],
   "source": [
    "# 결과값을 반환해주는 함수~\n",
    "\n",
    "def add2(a,b):\n",
    "    return a+b\n",
    "\n",
    "print(add2('hi ','python'))"
   ]
  },
  {
   "cell_type": "code",
   "execution_count": null,
   "metadata": {},
   "outputs": [],
   "source": [
    "## 값을 여러개 반환 ##\n",
    "def add_sub(a,b):\n",
    "    \"\"\"값을 여러개 반환하는 함수입니다.\"\"\"\n",
    "    return a+b,a-b\n",
    "\n",
    "\n",
    "print(add_sub(3,4))"
   ]
  },
  {
   "cell_type": "code",
   "execution_count": null,
   "metadata": {},
   "outputs": [],
   "source": [
    "x, _ = add_sub(30,40)  ## _(언더바)는 더미 변수를 의미한다.\n",
    "_"
   ]
  },
  {
   "cell_type": "code",
   "execution_count": null,
   "metadata": {},
   "outputs": [],
   "source": [
    "def mul(a,b):\n",
    "    return a*b\n",
    "def calc(a,b):\n",
    "    d = mul(a,b)\n",
    "    return(a,b)\n",
    "    "
   ]
  },
  {
   "cell_type": "code",
   "execution_count": null,
   "metadata": {},
   "outputs": [],
   "source": [
    "################################################### \n",
    "def is_perfect(n):\n",
    "    sumsub = 0\n",
    "    for i in range(1,n): \n",
    "        if n % i == 0: sumsub += i\n",
    "    return sumsub == n # 리턴에다가 트루 폴스값을 넣어서 하는 \n",
    "n = int(input())\n",
    "[i for i in range(2,n+1) if is_perfect(i)]\n"
   ]
  },
  {
   "cell_type": "code",
   "execution_count": null,
   "metadata": {},
   "outputs": [],
   "source": [
    "n = int(input())\n",
    "\n",
    "def is_perfact(n):\n",
    "    sumsub = 0\n",
    "    for i in range(1,n):\n",
    "        if n % 1 == 0 : sumsub +=1\n",
    "    return sumsub == n\n",
    "\n",
    "n = int(input())\n",
    "\n",
    "[i for i in range(2,n+1) if is_perfect(i)]"
   ]
  },
  {
   "cell_type": "code",
   "execution_count": null,
   "metadata": {},
   "outputs": [],
   "source": [
    "n = int(input())\n",
    "\n",
    "for i in range(n):\n",
    "    if i <= n // 2: # 나누기 연산 후 소수점 이하의 수를 버리고, 정수 부분의 수만 구함\n",
    "         star = '*' * (2*i+1)\n",
    "    else:\n",
    "        star = '*' * (2 * (n-1) - 1 )\n",
    "    print(f'{star:^{n}s}') ## 센터링 이라는 뭐지 ??신기한 코드 \n",
    "    "
   ]
  },
  {
   "cell_type": "code",
   "execution_count": null,
   "metadata": {},
   "outputs": [],
   "source": [
    "n = int(input())\n",
    "\n",
    "for i in range(n):\n",
    "    print('*' * (2*i+1))"
   ]
  },
  {
   "cell_type": "code",
   "execution_count": null,
   "metadata": {},
   "outputs": [],
   "source": [
    "import math\n",
    "def circle_info(radius):\n",
    "    return radius * radius * math.pi, 2*radius * math.pi5\n",
    "r = float(input())\n",
    "print(f'면적은 {circle_info(r)[0]:.4f}\\n둘레는 {circle_info(r)[1]:.4f}입니다.')"
   ]
  },
  {
   "cell_type": "code",
   "execution_count": null,
   "metadata": {},
   "outputs": [],
   "source": [
    "a = []\n",
    "for i in range(3):\n",
    "    b = []\n",
    "    for k in range(4):\n",
    "        b.append(k)\n",
    "        \n",
    "    a.append(b)\n",
    "a\n",
    "\n"
   ]
  },
  {
   "cell_type": "code",
   "execution_count": null,
   "metadata": {},
   "outputs": [],
   "source": [
    "# 홀수는 문자열 짝수는 정수!!!!!!\n",
    "\n",
    "# [str(i) if i%2 == 1 else i for i in range(1,10)]\n",
    "\n",
    "# list(map(lambda x:str(x) if x %2 ==1 else x, range(1,10)))\n",
    "\n",
    "# def det(x):\n",
    "#     return str(x) if x % 2 ==1 else x \n",
    "# list(map(det, range(1,11)))\n",
    "\n",
    "def det(x):\n",
    "    return str(x) if x % 2 ==1 else x\n",
    "list(map(det,range(1,11)))\n",
    "\n",
    "\n"
   ]
  },
  {
   "cell_type": "code",
   "execution_count": null,
   "metadata": {},
   "outputs": [],
   "source": [
    "class Tmoney:\n",
    "    def __init__(self, balance):\n",
    "        self.balence = balance\n",
    "        self.__fare = 1350 # 인캡슐레이션\n",
    "    def pay(self):\n",
    "        if self.balence < self.__fare:\n",
    "            return ('잔액이 부족합니다')\n",
    "        self.balence -= self.__fare\n",
    "        return(f'요금을 지불하고 {self.balence:,d}원 남았습니다.')\n",
    "    def get_fare(self):\n",
    "        return self.__fare\n",
    "    def set_fare(self, fare): # 게터\n",
    "        self.__fare = fare # 세터\n",
    "card = Tmoney(5000)\n",
    "for i in range(4):\n",
    "    print(card.pay())\n",
    "\n",
    "card.get_fare()"
   ]
  },
  {
   "cell_type": "code",
   "execution_count": null,
   "metadata": {},
   "outputs": [],
   "source": [
    "## 연도를 윤년인지 아닌지 출력 하는 프로그램 \n",
    "\n",
    "# 윤년은 4의 배수 이면서(and) 100 배수가 아닐때 or 400의 배수 일때 이다.\n",
    "\n",
    "year = int(input())\n",
    "\n",
    "if year % 400 == 0:\n",
    "    print(f'{year}은 윤년입니다.')\n",
    "elif year % 4 == 0 and year % 100 != 0:\n",
    "    print(f'{year}년은 윤년입니다.')\n",
    "else:\n",
    "    print(f'{year}은 윤년이 아닙니다.')"
   ]
  },
  {
   "cell_type": "code",
   "execution_count": null,
   "metadata": {},
   "outputs": [],
   "source": [
    "from datetime import date\n",
    "today = date.today()\n",
    "today\n",
    "year, month, day = map(int, input().split())\n",
    "year, month, day\n",
    "if month > today.month:\n",
    "    age = today.year - year - 1\n",
    "elif month < today.month:\n",
    "    age = today.year - year\n",
    "else:\n",
    "    if day > today.day:\n",
    "        age = today.year - year - 1\n",
    "    else:\n",
    "         age = today.year - year\n",
    "print(f'생년월일이 {year}-{month}-{day}인 사람의 만 나이는 {age}')"
   ]
  },
  {
   "cell_type": "code",
   "execution_count": null,
   "metadata": {},
   "outputs": [],
   "source": [
    "ptnum = 0\n",
    "\n",
    "for i in range(1,1000):\n",
    "    for k in range(1,1000):\n",
    "        for j in range(1,1000):\n",
    "            if (i*i)+(k*k)==j*j:\n",
    "                if i+j+k == 1000:\n",
    "                   print(i,j,k) "
   ]
  },
  {
   "cell_type": "code",
   "execution_count": null,
   "metadata": {},
   "outputs": [],
   "source": [
    "s = int(input())\n",
    "\n",
    "if not 5<=s<=9:\n",
    "    print('5이상 9이하의수를 입력해주세요')\n",
    "\n",
    "# 1 3 5 7 5 3 1\n",
    "\n",
    "for i in range(s):\n",
    "    print('*' * (2*i+1))\n",
    "for i in range(s):\n",
    "    print('*' * s- (2*i-1))"
   ]
  },
  {
   "cell_type": "code",
   "execution_count": null,
   "metadata": {},
   "outputs": [],
   "source": [
    "n = int(input())\n",
    "for i in range(n):\n",
    "    if i <= n // 2:\n",
    "        star = '*' * (2*i + 1)\n",
    "    else:\n",
    "        star = '*' * (2 * (n-i) - 1)\n",
    "    print(f'{star:^{n}s}') # 띄어쓰기 문제인가 ?? "
   ]
  },
  {
   "cell_type": "code",
   "execution_count": null,
   "metadata": {},
   "outputs": [],
   "source": [
    "display = ''\n",
    "count_seconds = 0\n",
    "\n",
    "for i in range(1,25):\n",
    "    for k in range(1,61):\n",
    "        display = str(i) + str(k)\n",
    "        if '3' in display:\n",
    "            count_seconds += 60\n",
    "print(count_seconds)\n"
   ]
  },
  {
   "cell_type": "code",
   "execution_count": null,
   "metadata": {},
   "outputs": [],
   "source": [
    "# 1 ~ 1000에서 각 숫자의 개수를 구하시오.\n",
    "\n"
   ]
  },
  {
   "cell_type": "code",
   "execution_count": null,
   "metadata": {},
   "outputs": [],
   "source": [
    "num = int(input())\n",
    "a=[]\n",
    "for i in range(num):\n",
    "    sum_sub = 0\n",
    "    for k in range(1,i):\n",
    "        if i % k == 0:\n",
    "            sum_sub += k\n",
    "    if sum_sub == i:\n",
    "        a.append(i)\n",
    "a"
   ]
  },
  {
   "cell_type": "code",
   "execution_count": null,
   "metadata": {},
   "outputs": [],
   "source": [
    "N = int(input())\n",
    "for i in range(2, N+1):\n",
    "    sum_of_divisor = 0\n",
    "    for k in range(1, i):\n",
    "        if i % k == 0:\n",
    "            sum_of_divisor += k\n",
    "    if sum_of_divisor == i:\n",
    "        print(sum_of_divisor)"
   ]
  },
  {
   "cell_type": "code",
   "execution_count": null,
   "metadata": {},
   "outputs": [],
   "source": [
    "num = int(input())\n",
    "num_sub = 0\n",
    "num_sub1 = 0\n",
    "\n",
    "for i in range(1,num+1):\n",
    "    num_sub += i*i # 제곱의합\n",
    "    num_sub1 += i\n",
    "print(f'합의제곱{num_sub1**2}-제곱의합{num_sub}의 결과는{num_sub1**2-num_sub}입니다.')"
   ]
  },
  {
   "cell_type": "code",
   "execution_count": 1,
   "metadata": {},
   "outputs": [
    {
     "ename": "NameError",
     "evalue": "name 'x' is not defined",
     "output_type": "error",
     "traceback": [
      "\u001b[1;31m---------------------------------------------------------------------------\u001b[0m",
      "\u001b[1;31mNameError\u001b[0m                                 Traceback (most recent call last)",
      "\u001b[1;32m<ipython-input-1-2b8b31d6f7b2>\u001b[0m in \u001b[0;36m<module>\u001b[1;34m\u001b[0m\n\u001b[0;32m      1\u001b[0m \u001b[1;31m# 삼항 연산자\u001b[0m\u001b[1;33m\u001b[0m\u001b[1;33m\u001b[0m\u001b[1;33m\u001b[0m\u001b[0m\n\u001b[0;32m      2\u001b[0m \u001b[1;33m\u001b[0m\u001b[0m\n\u001b[1;32m----> 3\u001b[1;33m \u001b[0mY\u001b[0m \u001b[1;33m=\u001b[0m \u001b[1;34m'even'\u001b[0m \u001b[1;32mif\u001b[0m \u001b[0mx\u001b[0m \u001b[1;33m%\u001b[0m \u001b[1;36m2\u001b[0m \u001b[1;33m==\u001b[0m \u001b[1;36m0\u001b[0m \u001b[1;32melse\u001b[0m \u001b[1;34m'odd'\u001b[0m\u001b[1;33m\u001b[0m\u001b[1;33m\u001b[0m\u001b[0m\n\u001b[0m\u001b[0;32m      4\u001b[0m \u001b[1;33m\u001b[0m\u001b[0m\n",
      "\u001b[1;31mNameError\u001b[0m: name 'x' is not defined"
     ]
    }
   ],
   "source": [
    "# 삼항 연산자\n",
    "\n",
    "Y = 'even' if x % 2 == 0 else 'odd'\n"
   ]
  },
  {
   "cell_type": "code",
   "execution_count": 16,
   "metadata": {},
   "outputs": [
    {
     "name": "stdout",
     "output_type": "stream",
     "text": [
      "  *  \n",
      " *** \n",
      "*****\n",
      " *** \n",
      "  *  \n"
     ]
    }
   ],
   "source": [
    "n = int(input())\n",
    "\n",
    "for i in range(n):\n",
    "    if i <= n//2:\n",
    "        star = '*' * (2*i+1)\n",
    "    else:\n",
    "        star = '*' * (2*(n - i) -1)\n",
    "    print(f'{star:^{n}s}')"
   ]
  },
  {
   "cell_type": "code",
   "execution_count": null,
   "metadata": {},
   "outputs": [],
   "source": [
    "n = int(input())\n",
    "for i in range(n):\n",
    "    if i <= n // 2:\n",
    "        star = '*' * (2*i + 1)\n",
    "    else:\n",
    "        star = '*' * (2 * (n-i) - 1) # 홀수 빼기 할때 편함\n",
    "    print(f'{star:^{n}s}') ## n 만큼 띄어써라 "
   ]
  },
  {
   "cell_type": "markdown",
   "metadata": {},
   "source": [
    "# 1 ~ 1000까지의 숫자를 구하시오 "
   ]
  },
  {
   "cell_type": "code",
   "execution_count": 17,
   "metadata": {},
   "outputs": [
    {
     "data": {
      "text/plain": [
       "{0: 192,\n",
       " 1: 301,\n",
       " 2: 300,\n",
       " 3: 300,\n",
       " 4: 300,\n",
       " 5: 300,\n",
       " 6: 300,\n",
       " 7: 300,\n",
       " 8: 300,\n",
       " 9: 300}"
      ]
     },
     "execution_count": 17,
     "metadata": {},
     "output_type": "execute_result"
    }
   ],
   "source": [
    "\n",
    "# 문자열로 해결\n",
    "number_count = {i:0 for i in range(10)} #  앞자리 숫자를 나타내줌 0~ 9\n",
    "number_str = '' # 빈공간 \n",
    "for i in range(1,1001): \n",
    "    number_str += str(i)\n",
    "for i in range(10):\n",
    "    number_count[i] = number_str.count(str(i))\n",
    "number_count"
   ]
  },
  {
   "cell_type": "code",
   "execution_count": 20,
   "metadata": {},
   "outputs": [
    {
     "data": {
      "text/plain": [
       "{0: 192,\n",
       " 1: 301,\n",
       " 2: 300,\n",
       " 3: 300,\n",
       " 4: 300,\n",
       " 5: 300,\n",
       " 6: 300,\n",
       " 7: 300,\n",
       " 8: 300,\n",
       " 9: 300}"
      ]
     },
     "execution_count": 20,
     "metadata": {},
     "output_type": "execute_result"
    }
   ],
   "source": [
    "number_count = {i:0 for i in range(10)} # 빈공간 만드는 이유 0~9 까지 \n",
    "number_str = ' '\n",
    "for i in range(1,1001):\n",
    "    number_str += str(i)\n",
    "for i in range(10):\n",
    "    number_count[i] = number_str.count(str(i))\n",
    "number_count"
   ]
  },
  {
   "cell_type": "code",
   "execution_count": 21,
   "metadata": {},
   "outputs": [
    {
     "data": {
      "text/plain": [
       "{0: 192,\n",
       " 1: 301,\n",
       " 2: 300,\n",
       " 3: 300,\n",
       " 4: 300,\n",
       " 5: 300,\n",
       " 6: 300,\n",
       " 7: 300,\n",
       " 8: 300,\n",
       " 9: 300}"
      ]
     },
     "execution_count": 21,
     "metadata": {},
     "output_type": "execute_result"
    }
   ],
   "source": [
    "num_count = {i:0 for i in range(10)}\n",
    "number_str = ' '\n",
    "for i in range(1,1001):\n",
    "    number_str += str(i)\n",
    "for i in range(10):\n",
    "    number_count[i] = number_str.count(str(i))\n",
    "number_count"
   ]
  },
  {
   "cell_type": "code",
   "execution_count": null,
   "metadata": {},
   "outputs": [],
   "source": []
  }
 ],
 "metadata": {
  "interpreter": {
   "hash": "01028a136781fc040f4ca2fc342be4af38db445d6d6e41b2bf3d0a768d20aeda"
  },
  "kernelspec": {
   "display_name": "Python 3.8.8 64-bit (conda)",
   "language": "python",
   "name": "python3"
  },
  "language_info": {
   "codemirror_mode": {
    "name": "ipython",
    "version": 3
   },
   "file_extension": ".py",
   "mimetype": "text/x-python",
   "name": "python",
   "nbconvert_exporter": "python",
   "pygments_lexer": "ipython3",
   "version": "3.8.8"
  },
  "orig_nbformat": 4
 },
 "nbformat": 4,
 "nbformat_minor": 2
}
