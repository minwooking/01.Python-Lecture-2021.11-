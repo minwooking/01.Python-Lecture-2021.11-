{
 "cells": [
  {
   "cell_type": "markdown",
   "metadata": {},
   "source": [
    "### Q-1 별그리기\n",
    "5이상 9이하의 홀수를 입력받아 다이아몬드 형태의 별을 출력하는 프로그램을  작성하시오."
   ]
  },
  {
   "cell_type": "code",
   "execution_count": 7,
   "metadata": {},
   "outputs": [
    {
     "name": "stdout",
     "output_type": "stream",
     "text": [
      " * \n",
      "***\n",
      " * \n"
     ]
    }
   ],
   "source": [
    "n = int(input())\n",
    "for i in range(n):\n",
    "    if i <= n // 2:\n",
    "        star = '*' * (2*i + 1)\n",
    "    else:\n",
    "        star = '*' * (2 * (n-i) - 1) # 홀수 빼기 할때 편함\n",
    "    print(f'{star:^{n}s}') ## n 만큼 띄어써라 \n"
   ]
  },
  {
   "cell_type": "code",
   "execution_count": 8,
   "metadata": {},
   "outputs": [
    {
     "name": "stdout",
     "output_type": "stream",
     "text": [
      " * \n",
      "***\n",
      " * \n"
     ]
    }
   ],
   "source": [
    "n = int(input())\n",
    "for i in range(n):\n",
    "    if i <= n // 2: # n을 2로 나눈값을 정수로 반환하는거\n",
    "        star = '*' * (2*i + 1)\n",
    "    else:\n",
    "        star = '*' * (2 * (n-i) - 1)\n",
    "    print(f'{star:^{n}s}') ## n 만큼 띄어써라 총길이가 9자리 센터링 "
   ]
  },
  {
   "cell_type": "markdown",
   "metadata": {},
   "source": [
    "### Q-2 디지털 시계\n",
    "디지털 시계에 하루동안(00:00~23:59) 3이 표시되는 시간을 초로 환산하면 총 몇 초(second) 일까요?"
   ]
  },
  {
   "cell_type": "markdown",
   "metadata": {},
   "source": [
    "3 시 13 시 23시   조건 두개 포문 \n",
    "3 13 23 33 43 53  조건 두개 포문 이고 판단은 하나 if 문 하나 임 "
   ]
  },
  {
   "cell_type": "code",
   "execution_count": 7,
   "metadata": {},
   "outputs": [
    {
     "name": "stdout",
     "output_type": "stream",
     "text": [
      "29700\n"
     ]
    }
   ],
   "source": [
    "total_seconds = 0\n",
    "for hour in range(24):\n",
    "    for minute in range(60):\n",
    "        display = f'{hour:02d}:{minute:02d}'\n",
    "        if '3' in display:\n",
    "            total_seconds += 60\n",
    "print(total_seconds)"
   ]
  },
  {
   "cell_type": "code",
   "execution_count": 9,
   "metadata": {},
   "outputs": [
    {
     "name": "stdout",
     "output_type": "stream",
     "text": [
      "29700\n"
     ]
    }
   ],
   "source": [
    "total_seconds = 0\n",
    "for hour in range(24):\n",
    "    for minute in range(60):\n",
    "        display = f'{hour:02d}:{minute:02d}' # 문자열로 저장하는 방식\n",
    "        if '3' in display:                   # 문자열로 저장해서 찾는 형식이 파이썬에서 더 편하게 할 수 있음 \n",
    "            total_seconds += 60\n",
    "print(total_seconds)"
   ]
  },
  {
   "cell_type": "markdown",
   "metadata": {},
   "source": [
    "### Q-3 숫자 갯수\n",
    "1~1000에서 각 숫자의 개수를 구하시오."
   ]
  },
  {
   "cell_type": "code",
   "execution_count": null,
   "metadata": {},
   "outputs": [],
   "source": []
  },
  {
   "cell_type": "code",
   "execution_count": null,
   "metadata": {},
   "outputs": [],
   "source": [
    "# 두자리수(10 ~ 99)\n",
    "number_count = {i:0 for i in range(10)}\n",
    "for n in range(10,100):\n",
    "    ten, one = n//10, n%10\n",
    "    number_count[ten] += 1\n",
    "    number_count[one] += 1\n",
    "number_count"
   ]
  },
  {
   "cell_type": "code",
   "execution_count": 12,
   "metadata": {},
   "outputs": [
    {
     "data": {
      "text/plain": [
       "{0: 192,\n",
       " 1: 301,\n",
       " 2: 300,\n",
       " 3: 300,\n",
       " 4: 300,\n",
       " 5: 300,\n",
       " 6: 300,\n",
       " 7: 300,\n",
       " 8: 300,\n",
       " 9: 300}"
      ]
     },
     "execution_count": 12,
     "metadata": {},
     "output_type": "execute_result"
    }
   ],
   "source": [
    "# 문자열로 해결\n",
    "number_count = {i:0 for i in range(10)} #  앞자리 숫자를 나타내줌 0~ 9\n",
    "number_str = '' # 빈공간 \n",
    "for i in range(1,1001): \n",
    "    number_str += str(i)\n",
    "for i in range(10):\n",
    "    number_count[i] = number_str.count(str(i))\n",
    "number_count"
   ]
  },
  {
   "cell_type": "markdown",
   "metadata": {},
   "source": []
  },
  {
   "cell_type": "markdown",
   "metadata": {},
   "source": [
    "### Q-4 완전수\n",
    "자기 자신을 제외한 모든 양의 약수들의 합이 자기 자신이 되는 자연수를 완전수라고 한다. <br>입력으로 자연수 N을 받고, 출력으로 N 이하의 모든 완전수를 출력하는 코드를 작성하시오."
   ]
  },
  {
   "cell_type": "code",
   "execution_count": 13,
   "metadata": {},
   "outputs": [],
   "source": [
    "N = int(input())\n",
    "for i in range(2, N+1):\n",
    "    sum_of_divisor = 0\n",
    "    for k in range(1, i):\n",
    "        if i % k == 0:\n",
    "            sum_of_divisor += k\n",
    "    if sum_of_divisor == i:\n",
    "        print(sum_of_divisor)"
   ]
  },
  {
   "cell_type": "code",
   "execution_count": 15,
   "metadata": {},
   "outputs": [
    {
     "name": "stdout",
     "output_type": "stream",
     "text": [
      "6\n",
      "28\n",
      "496\n"
     ]
    }
   ],
   "source": [
    "def is_perfect(n):\n",
    "    sum_of_divisor = 0\n",
    "    for i in range(1, n):\n",
    "        if n % i == 0:\n",
    "            sum_of_divisor += i\n",
    "    return sum_of_divisor == n # true false 리턴 할 수 있어서 굉장히 편하게씀\n",
    "N = int(input())\n",
    "for i in range(2, N+1):\n",
    "    if is_perfect(i):print(i)"
   ]
  },
  {
   "cell_type": "markdown",
   "metadata": {},
   "source": [
    "### Q-5 제곱의 합, 합의 제곱\n",
    "입력으로 자연수 N을 받아, 1부터 N까지 자연수에 대해 \"합의 제곱\"과 \"제곱의 합\"의 차이는 얼마인가?"
   ]
  },
  {
   "cell_type": "code",
   "execution_count": 17,
   "metadata": {},
   "outputs": [
    {
     "name": "stdout",
     "output_type": "stream",
     "text": [
      "합의 제곱 - 제곱의 합 = 2640\n"
     ]
    }
   ],
   "source": [
    "N = int(input())\n",
    "sum_of_square = 0\n",
    "sum_of_plain = 0\n",
    "for i in range(1,N+1):\n",
    "    sum_of_plain += i\n",
    "    sum_of_square += i*i\n",
    "print(f'합의 제곱 - 제곱의 합 = {sum_of_plain**2 - sum_of_square}') ## 여기서도 계산이 가능하다. {}속성안에서 계산가능함. "
   ]
  },
  {
   "cell_type": "code",
   "execution_count": 2,
   "metadata": {},
   "outputs": [
    {
     "name": "stdout",
     "output_type": "stream",
     "text": [
      "3\n"
     ]
    }
   ],
   "source": [
    "A, B = map(int,input().split())\n",
    "print(A+B)\n"
   ]
  },
  {
   "cell_type": "code",
   "execution_count": null,
   "metadata": {},
   "outputs": [],
   "source": []
  }
 ],
 "metadata": {
  "interpreter": {
   "hash": "b25c465b1c18d956483426a8691b47b486d8d9b6837da05c7a56549aad74826f"
  },
  "kernelspec": {
   "display_name": "Python 3.8.8 64-bit ('base': conda)",
   "language": "python",
   "name": "python3"
  },
  "language_info": {
   "codemirror_mode": {
    "name": "ipython",
    "version": 3
   },
   "file_extension": ".py",
   "mimetype": "text/x-python",
   "name": "python",
   "nbconvert_exporter": "python",
   "pygments_lexer": "ipython3",
   "version": "3.8.8"
  },
  "orig_nbformat": 4
 },
 "nbformat": 4,
 "nbformat_minor": 2
}
