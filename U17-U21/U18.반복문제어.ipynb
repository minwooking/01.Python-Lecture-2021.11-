{
 "cells": [
  {
   "cell_type": "markdown",
   "metadata": {},
   "source": [
    "# Unit.18 반복문 제어"
   ]
  },
  {
   "cell_type": "markdown",
   "metadata": {},
   "source": [
    "### 18-1. break"
   ]
  },
  {
   "cell_type": "code",
   "execution_count": 5,
   "metadata": {},
   "outputs": [
    {
     "name": "stdout",
     "output_type": "stream",
     "text": [
      "4 6 5 3 "
     ]
    }
   ],
   "source": [
    "import random as rd\n",
    "rd.seed(2021)\n",
    "\n",
    "while True:\n",
    "    dice = rd.randint(1,6)\n",
    "    print(dice, end=' ')\n",
    "    if dice == 3:\n",
    "        break"
   ]
  },
  {
   "cell_type": "code",
   "execution_count": 19,
   "metadata": {},
   "outputs": [
    {
     "name": "stdout",
     "output_type": "stream",
     "text": [
      "돌려서4,1가 나왔습니다 돌려서2,5가 나왔습니다 돌려서6,4가 나왔습니다 두 주사위의 합이 10이상이 나와서 프로그램을 종료합니다\n",
      "\n"
     ]
    }
   ],
   "source": [
    "# 주사위를 두번 던져서 합이 10이상이면 반복문 종료~\n",
    "# rd.seed(2021)\n",
    "\n",
    "while 1:\n",
    "    d1 = rd.randint(1,6)\n",
    "    d2 = rd.randint(1,6)\n",
    "    print(f'돌려서{d1},{d2}가 나왔습니다', end=' ')\n",
    "    if (d1+d2) >= 10:\n",
    "        print(\"두 주사위의 합이 10이상이 나와서 프로그램을 종료합니다\\n\")\n",
    "        break"
   ]
  },
  {
   "cell_type": "code",
   "execution_count": null,
   "metadata": {},
   "outputs": [],
   "source": [
    "# continue\n",
    "\n",
    "for i i "
   ]
  },
  {
   "cell_type": "code",
   "execution_count": null,
   "metadata": {},
   "outputs": [],
   "source": []
  }
 ],
 "metadata": {
  "interpreter": {
   "hash": "01028a136781fc040f4ca2fc342be4af38db445d6d6e41b2bf3d0a768d20aeda"
  },
  "kernelspec": {
   "display_name": "Python 3.8.8 64-bit (conda)",
   "language": "python",
   "name": "python3"
  },
  "language_info": {
   "codemirror_mode": {
    "name": "ipython",
    "version": 3
   },
   "file_extension": ".py",
   "mimetype": "text/x-python",
   "name": "python",
   "nbconvert_exporter": "python",
   "pygments_lexer": "ipython3",
   "version": "3.8.8"
  },
  "orig_nbformat": 4
 },
 "nbformat": 4,
 "nbformat_minor": 2
}
