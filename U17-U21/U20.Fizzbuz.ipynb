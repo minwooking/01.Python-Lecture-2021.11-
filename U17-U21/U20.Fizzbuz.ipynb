{
 "cells": [
  {
   "cell_type": "markdown",
   "metadata": {},
   "source": [
    "# Unit 20.FizzBuzz"
   ]
  },
  {
   "cell_type": "code",
   "execution_count": null,
   "metadata": {},
   "outputs": [],
   "source": [
    "# i j 보다 K가 좋다... # 3항연산 사용하기 \n",
    "# 3항연산 사용하기 \n",
    "for i in range(1,101,1):\n",
    "    pop = 'FizzBuzz' if i % (3*5) == 0 else \\\n",
    "            'Fizz' if i % 3 == 0 else \\\n",
    "                'Buzz' if i % 5 == 0 else i \n",
    "    print(f'{pop}',end=',')\n",
    "\n",
    "#일반   # if i % (3*5) == 0: pop = 'FizzBuzz'\n",
    "        # elif i % 3 == 0: pop = 'Fizz'\n",
    "        # elif i % 5 == 0:pop = 'Buzz'\n",
    "        # else: pop = i\n",
    "        # print(f'{pop}')"
   ]
  },
  {
   "cell_type": "code",
   "execution_count": null,
   "metadata": {},
   "outputs": [],
   "source": [
    "for i in range(1,101):print('FiZZ' *(i%3==0) +'BUZZ' * (i%5==0) or i, end=',') \n",
    "for i in range(4):print(' '*(3-i),'*'*(2*i+1),)\n",
    "for j in range(3,0,-1):print(' '*(4-j),'*'*(2*j-1),)"
   ]
  },
  {
   "cell_type": "markdown",
   "metadata": {},
   "source": [
    "- 세자리수 두개를 곱해서 만든 수가 대칭수 일때\n",
    "- 가장 큰 대칭수와 그때의 두 수를 구하시오."
   ]
  },
  {
   "cell_type": "code",
   "execution_count": null,
   "metadata": {},
   "outputs": [],
   "source": [
    "import math as ma\n",
    "\n",
    "two = ma.sqrt(4)\n",
    "two"
   ]
  },
  {
   "cell_type": "code",
   "execution_count": null,
   "metadata": {},
   "outputs": [],
   "source": [
    "### 함수 만들기\n",
    "def is_palindrome(n):  # 대칭수 찾기 \n",
    "    s = str(n)\n",
    "    return s == s[::-1] # 끝에서부터 거꾸로 읽는거 "
   ]
  },
  {
   "cell_type": "code",
   "execution_count": null,
   "metadata": {},
   "outputs": [],
   "source": [
    "is_palindrome(12321) # 대칭수 찾아주는 함수 완성"
   ]
  },
  {
   "cell_type": "code",
   "execution_count": null,
   "metadata": {},
   "outputs": [],
   "source": [
    "for i in range(100,1000):\n",
    "    if is_palindrome(i * (i-1) ):\n",
    "        big3 = 0\n",
    "        if i*i-1 > big3:\n",
    "            big3 = i*i-1\n",
    "            big1 = i\n",
    "            big2 = (i-1)\n",
    "    print(f'가장큰대칭수는{big3} 이고 그 두수는 {big1},{big2}입니다')  "
   ]
  },
  {
   "cell_type": "code",
   "execution_count": null,
   "metadata": {},
   "outputs": [],
   "source": []
  },
  {
   "cell_type": "code",
   "execution_count": null,
   "metadata": {},
   "outputs": [],
   "source": [
    "for i in range(100,1000):\n",
    "    if is_palindrome(i * (i-1) ):\n",
    "        big3 = i *(i-1)\n",
    "        if i*i-1 > big3:\n",
    "            big1 = i\n",
    "            big2 = (i-1)\n",
    "    print(f'가장큰대칭수는{big3} 이고 그 두수는 {big1},{big2}입니다')  "
   ]
  },
  {
   "cell_type": "code",
   "execution_count": null,
   "metadata": {},
   "outputs": [],
   "source": [
    "for i in range(100,1000):\n",
    "    if is_palindrome(i * (i-1) ):\n",
    "        big3 = i *(i+1)\n",
    "        if i*i-1 > big3:\n",
    "            big1 = i\n",
    "            big2 = (i-1)\n",
    "    print(f'가장큰대칭수는{big3} 이고 그 두수는 {big1},{big2}입니다')  "
   ]
  },
  {
   "cell_type": "code",
   "execution_count": null,
   "metadata": {},
   "outputs": [],
   "source": [
    "for i in range(100,1000):\n",
    "    if is_palindrome(i * (i-1) ):\n",
    "        big3 = i *(i+1)\n",
    "        if i*i-1 > big3:\n",
    "            big1 = i\n",
    "            big2 = (i-1)\n",
    "            big3 = big1 * big2\n",
    "print(f'가장큰대칭수는{big1*big2} 이고 그 두수는 {big1},{big2}입니다')  "
   ]
  },
  {
   "cell_type": "code",
   "execution_count": null,
   "metadata": {},
   "outputs": [],
   "source": [
    "for i in range(100,1000):\n",
    "    if is_palindrome(i * (i-1) ):\n",
    "        big3 = i *(i+1)\n",
    "        if i*i-1 > big3:\n",
    "            big1 = i\n",
    "            big2 = (i-1)\n",
    "    print(f'가장큰대칭수는{big3} 이고 그 두수는 {big1},{big2}입니다')  "
   ]
  },
  {
   "cell_type": "code",
   "execution_count": null,
   "metadata": {},
   "outputs": [],
   "source": [
    "for i in range(100,1000):\n",
    "    if is_palindrome(i * (i-1) ):\n",
    "        big3 = i *(i+1)\n",
    "        if i*i-1 > big3:\n",
    "            big1 = i\n",
    "            big2 = (i-1)\n",
    "    print(f'가장큰대칭수는{big3} 이고 그 두수는 {big1},{big2}입니다')  "
   ]
  },
  {
   "cell_type": "code",
   "execution_count": null,
   "metadata": {},
   "outputs": [],
   "source": [
    "for i in range(100,1000):\n",
    "    if is_palindrome(i * (i+1) ):\n",
    "        big3 = i *(i+1)\n",
    "        if i*i-1 > big3:\n",
    "            big1 = i\n",
    "            big2 = (i-1)\n",
    "            big3 = big1 * big2\n",
    "print(f'가장큰대칭수는{big3} 이고 그 두수는 {big1},{big2}입니다')"
   ]
  },
  {
   "cell_type": "code",
   "execution_count": null,
   "metadata": {},
   "outputs": [],
   "source": [
    "for i in range(100,1000):\n",
    "    if is_palindrome(i * (i-1) ):\n",
    "            big1 = i\n",
    "            big2 = (i-1)\n",
    "            big3 = big1 * big2\n",
    "print(f'가장큰대칭수는{big3} 이고 그 두수는 {big1},{big2}입니다')"
   ]
  },
  {
   "cell_type": "code",
   "execution_count": null,
   "metadata": {},
   "outputs": [],
   "source": [
    "for i in range(100,1000,1):\n",
    "    if is_palindrome(i * (i+1) ):\n",
    "            big1 = i\n",
    "            big2 = (i-1)\n",
    "            big3 = big1 * big2\n",
    "print(f'가장큰대칭수는{big3} 이고 그 두수는 {big1},{big2}입니다')"
   ]
  },
  {
   "cell_type": "code",
   "execution_count": null,
   "metadata": {},
   "outputs": [],
   "source": [
    "for i in range(99,1001,1):\n",
    "    if is_palindrome(i * (i-1) ):\n",
    "            big1 = i\n",
    "            big2 = (i-1)\n",
    "            big3 = big1 * big2\n",
    "print(f'가장큰대칭수는{big3} 이고 그 두수는 {big1},{big2}입니다')"
   ]
  },
  {
   "cell_type": "code",
   "execution_count": null,
   "metadata": {},
   "outputs": [],
   "source": [
    "for i in range(100,100):\n",
    "    if is_palindrome(i *(i+1)):\n",
    "            big1 = i\n",
    "            big2 = (i+1)\n",
    "            big3 = big1 * big2\n",
    "print(f'가장큰대칭수는{big3} 이고 그 두수는 {big1},{big2}입니다')"
   ]
  },
  {
   "cell_type": "code",
   "execution_count": null,
   "metadata": {},
   "outputs": [],
   "source": [
    "for i in range(100,100):\n",
    "    for k in range(i, 1000):\n",
    "        if is_palindrome(i*k):\n",
    "            print(i*k, end='')"
   ]
  },
  {
   "cell_type": "code",
   "execution_count": null,
   "metadata": {},
   "outputs": [],
   "source": [
    "for i in range(100,100):\n",
    "    for k in range(i, 1000):\n",
    "        if is_palindrome(i*k):\n",
    "            print(i*k,i,k,end='')"
   ]
  },
  {
   "cell_type": "code",
   "execution_count": null,
   "metadata": {},
   "outputs": [],
   "source": [
    "Max_num = 0\n",
    "for i in range(100,100):\n",
    "    for k in range(i, 1000):\n",
    "        mul = i * k\n",
    "        if is_palindrome(mul):\n",
    "            if mul > Max_num:\n",
    "                Max_num = mul"
   ]
  },
  {
   "cell_type": "code",
   "execution_count": null,
   "metadata": {},
   "outputs": [],
   "source": [
    "Max_num = 0\n",
    "for i in range(100,100):\n",
    "    for k in range(i, 1000):\n",
    "        mul = i * k\n",
    "        if is_palindrome(mul):\n",
    "            if mul > Max_num:\n",
    "                Max_num = mul\n",
    "                num1 = Max_num/k\n",
    "                num2 = k\n",
    "    print(mul,num1,num2)                         "
   ]
  },
  {
   "cell_type": "code",
   "execution_count": null,
   "metadata": {},
   "outputs": [],
   "source": [
    "for i in range(5):\n",
    "    for j in range(5):\n",
    "        if j < i:\n",
    "            print('*'*(2*i+1), end='')\n",
    "        else:\n",
    "            print(' '*(2*j+1), end='')\n",
    "    print()"
   ]
  },
  {
   "cell_type": "code",
   "execution_count": null,
   "metadata": {},
   "outputs": [],
   "source": [
    "x= int(input())\n",
    "\n",
    "\n",
    "\n",
    "for i in range(x):\n",
    "    print(' '*(x-i),'*'*(2*i+1),end='')\n",
    "    print()"
   ]
  },
  {
   "cell_type": "code",
   "execution_count": null,
   "metadata": {},
   "outputs": [],
   "source": [
    "height= int(input())\n",
    "\n",
    "for i in range(height):\n",
    "    print(' '*(height-i),'*'*(2*i+1),end='')\n",
    "    print()\n",
    "    "
   ]
  },
  {
   "cell_type": "code",
   "execution_count": null,
   "metadata": {},
   "outputs": [],
   "source": []
  }
 ],
 "metadata": {
  "interpreter": {
   "hash": "01028a136781fc040f4ca2fc342be4af38db445d6d6e41b2bf3d0a768d20aeda"
  },
  "kernelspec": {
   "display_name": "Python 3.8.8 64-bit (conda)",
   "language": "python",
   "name": "python3"
  },
  "language_info": {
   "codemirror_mode": {
    "name": "ipython",
    "version": 3
   },
   "file_extension": ".py",
   "mimetype": "text/x-python",
   "name": "python",
   "nbconvert_exporter": "python",
   "pygments_lexer": "ipython3",
   "version": "3.8.8"
  },
  "orig_nbformat": 4
 },
 "nbformat": 4,
 "nbformat_minor": 2
}
