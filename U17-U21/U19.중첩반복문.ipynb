{
 "cells": [
  {
   "cell_type": "markdown",
   "metadata": {},
   "source": [
    "# Unit.19 중첩반복문"
   ]
  },
  {
   "cell_type": "code",
   "execution_count": 4,
   "metadata": {},
   "outputs": [
    {
     "name": "stdout",
     "output_type": "stream",
     "text": [
      "*\n",
      "**\n",
      "***\n",
      "****\n",
      "*****\n"
     ]
    }
   ],
   "source": [
    "for i in range(5):\n",
    "    print('*' * (i+1))"
   ]
  },
  {
   "cell_type": "code",
   "execution_count": 1,
   "metadata": {},
   "outputs": [
    {
     "name": "stdout",
     "output_type": "stream",
     "text": [
      "*\n",
      "**\n",
      "***\n",
      "****\n",
      "*****\n"
     ]
    }
   ],
   "source": [
    "for i in range(1,6):\n",
    "    print('*'*i)"
   ]
  },
  {
   "cell_type": "code",
   "execution_count": 6,
   "metadata": {},
   "outputs": [
    {
     "name": "stdout",
     "output_type": "stream",
     "text": [
      "* * * *   \n",
      "* * *     \n",
      "* *       \n",
      "*         \n",
      "          \n"
     ]
    }
   ],
   "source": [
    "for i in range(5):\n",
    "    for k in range(4-i):\n",
    "        print ('*', end =' ')\n",
    "    for k in range(i+1):\n",
    "        print(' ', end=' ')\n",
    "    print()"
   ]
  },
  {
   "cell_type": "code",
   "execution_count": 8,
   "metadata": {},
   "outputs": [
    {
     "name": "stdout",
     "output_type": "stream",
     "text": [
      "*\n",
      "**\n",
      "***\n",
      "****\n",
      "*****\n"
     ]
    }
   ],
   "source": [
    "for i in range(5):\n",
    "    for k in range(i+1):\n",
    "        print('*', end='')  # end 는 붙혀주는 역할\n",
    "    print() "
   ]
  },
  {
   "cell_type": "code",
   "execution_count": 21,
   "metadata": {},
   "outputs": [
    {
     "name": "stdout",
     "output_type": "stream",
     "text": [
      "          \n",
      "*         \n",
      "* *       \n",
      "* * *     \n",
      "* * * *   \n"
     ]
    }
   ],
   "source": [
    "for i in range(5):\n",
    "    for k in range(i):\n",
    "        print ('*', end =' ')\n",
    "    for k in range(5-i):\n",
    "        print(' ', end=' ')\n",
    "    print()"
   ]
  },
  {
   "cell_type": "code",
   "execution_count": 31,
   "metadata": {},
   "outputs": [
    {
     "ename": "TypeError",
     "evalue": "end must be None or a string, not tuple",
     "output_type": "error",
     "traceback": [
      "\u001b[1;31m---------------------------------------------------------------------------\u001b[0m",
      "\u001b[1;31mTypeError\u001b[0m                                 Traceback (most recent call last)",
      "\u001b[1;32m<ipython-input-31-8398f92e8ad7>\u001b[0m in \u001b[0;36m<module>\u001b[1;34m\u001b[0m\n\u001b[0;32m      1\u001b[0m \u001b[1;32mfor\u001b[0m \u001b[0mi\u001b[0m \u001b[1;32min\u001b[0m \u001b[0mrange\u001b[0m\u001b[1;33m(\u001b[0m\u001b[1;36m4\u001b[0m\u001b[1;33m)\u001b[0m\u001b[1;33m:\u001b[0m\u001b[1;33m\u001b[0m\u001b[1;33m\u001b[0m\u001b[0m\n\u001b[1;32m----> 2\u001b[1;33m     \u001b[0mprint\u001b[0m\u001b[1;33m(\u001b[0m\u001b[1;34m' '\u001b[0m \u001b[1;33m*\u001b[0m\u001b[1;33m(\u001b[0m\u001b[1;36m3\u001b[0m\u001b[1;33m-\u001b[0m\u001b[0mi\u001b[0m\u001b[1;33m)\u001b[0m\u001b[1;33m,\u001b[0m\u001b[1;34m'*'\u001b[0m\u001b[1;33m*\u001b[0m\u001b[1;33m(\u001b[0m\u001b[1;36m2\u001b[0m\u001b[1;33m*\u001b[0m\u001b[0mi\u001b[0m\u001b[1;33m+\u001b[0m\u001b[1;36m1\u001b[0m\u001b[1;33m)\u001b[0m\u001b[1;33m,\u001b[0m\u001b[0mend\u001b[0m\u001b[1;33m=\u001b[0m\u001b[1;33m(\u001b[0m\u001b[1;33m)\u001b[0m\u001b[1;33m)\u001b[0m\u001b[1;33m\u001b[0m\u001b[1;33m\u001b[0m\u001b[0m\n\u001b[0m\u001b[0;32m      3\u001b[0m \u001b[1;33m\u001b[0m\u001b[0m\n",
      "\u001b[1;31mTypeError\u001b[0m: end must be None or a string, not tuple"
     ]
    }
   ],
   "source": [
    "for i in range(4):\n",
    "    print(' ' *(3-i),'*'*(2*i+1),end=())\n",
    "   \n"
   ]
  },
  {
   "cell_type": "code",
   "execution_count": 70,
   "metadata": {},
   "outputs": [
    {
     "name": "stdout",
     "output_type": "stream",
     "text": [
      "    *\n",
      "   ***\n",
      "  *****\n",
      " *******\n",
      "  *****\n",
      "   ***\n",
      "    *\n"
     ]
    }
   ],
   "source": [
    "for i in range(4):print(' '*(3-i),'*'*(2*i+1),)\n",
    "for j in range(3,0,-1):print(' '*(4-j),'*'*(2*j-1),)\n",
    "  "
   ]
  },
  {
   "cell_type": "code",
   "execution_count": 65,
   "metadata": {},
   "outputs": [
    {
     "name": "stdout",
     "output_type": "stream",
     "text": [
      "   *  *** ************\n"
     ]
    }
   ],
   "source": [
    "for i in range(4):\n",
    "    for j in range(3-i):\n",
    "        print(' ', end='')\n",
    "    for k in range(2*i+1):\n",
    "        print('*', end='')\n",
    "print()\n",
    "\n",
    "    "
   ]
  },
  {
   "cell_type": "code",
   "execution_count": 69,
   "metadata": {},
   "outputs": [
    {
     "name": "stdout",
     "output_type": "stream",
     "text": [
      "   *\n",
      "  ***\n",
      " *****\n",
      "*******\n",
      " *****\n",
      "  ***\n",
      "   *\n"
     ]
    }
   ],
   "source": [
    "for i in range(4):\n",
    "    for k in range(3-i):\n",
    "        print(' ', end='')\n",
    "    for k in range(2*i+1):\n",
    "        print('*', end='')\n",
    "    print()\n",
    "\n",
    "for i in range(2,-1,-1):\n",
    "    for k in range(3-i):\n",
    "        print(' ', end='')\n",
    "    for k in range(2*i+1):\n",
    "        print('*', end='')\n",
    "    print()"
   ]
  },
  {
   "cell_type": "code",
   "execution_count": 14,
   "metadata": {},
   "outputs": [
    {
     "name": "stdout",
     "output_type": "stream",
     "text": [
      "1,2,Fizz,4,Buzz,Fizz,7,8,Fizz,Buzz,11,Fizz,13,14,FizzBuzz,16,17,Fizz,19,Buzz,Fizz,22,23,Fizz,Buzz,26,Fizz,28,29,FizzBuzz,31,32,Fizz,34,Buzz,Fizz,37,38,Fizz,Buzz,41,Fizz,43,44,FizzBuzz,46,47,Fizz,49,Buzz,Fizz,52,53,Fizz,Buzz,56,Fizz,58,59,FizzBuzz,61,62,Fizz,64,Buzz,Fizz,67,68,Fizz,Buzz,71,Fizz,73,74,FizzBuzz,76,77,Fizz,79,Buzz,Fizz,82,83,Fizz,Buzz,86,Fizz,88,89,FizzBuzz,91,92,Fizz,94,Buzz,Fizz,97,98,Fizz,Buzz,"
     ]
    }
   ],
   "source": [
    "# i j 보다 K가 좋다... # 3항연산 사용하기 \n",
    "# 3항연산 사용하기 \n",
    "for i in range(1,101,1):\n",
    "    pop = 'FizzBuzz' if i % (3*5) == 0 else \\\n",
    "            'Fizz' if i % 3 == 0 else \\\n",
    "                'Buzz' if i % 5 == 0 else i \n",
    "    print(f'{pop}',end=',')\n",
    "\n",
    "# if i % (3*5) == 0: pop = 'FizzBuzz'\n",
    "#     elif i % 3 == 0: \n",
    "#         pop = 'Fizz'\n",
    "#     elif i % 5 == 0:\n",
    "#         pop = 'Buzz'\n",
    "#     else: \n",
    "#         pop = i\n",
    "#     print(f'{pop}')"
   ]
  },
  {
   "cell_type": "code",
   "execution_count": 9,
   "metadata": {},
   "outputs": [
    {
     "name": "stdout",
     "output_type": "stream",
     "text": [
      "1,2,FiZZ,4,BUZZ,FiZZ,7,8,FiZZ,BUZZ,11,FiZZ,13,14,FiZZBUZZ,16,17,FiZZ,19,BUZZ,FiZZ,22,23,FiZZ,BUZZ,26,FiZZ,28,29,FiZZBUZZ,31,32,FiZZ,34,BUZZ,FiZZ,37,38,FiZZ,BUZZ,41,FiZZ,43,44,FiZZBUZZ,46,47,FiZZ,49,BUZZ,FiZZ,52,53,FiZZ,BUZZ,56,FiZZ,58,59,FiZZBUZZ,61,62,FiZZ,64,BUZZ,FiZZ,67,68,FiZZ,BUZZ,71,FiZZ,73,74,FiZZBUZZ,76,77,FiZZ,79,BUZZ,FiZZ,82,83,FiZZ,BUZZ,86,FiZZ,88,89,FiZZBUZZ,91,92,FiZZ,94,BUZZ,FiZZ,97,98,FiZZ,BUZZ,"
     ]
    }
   ],
   "source": [
    "for i in range(1,101):\n",
    "    print('FiZZ' *(i%3==0) +'BUZZ' * (i%5==0) or i, end=',')  "
   ]
  },
  {
   "cell_type": "code",
   "execution_count": 10,
   "metadata": {},
   "outputs": [
    {
     "name": "stdout",
     "output_type": "stream",
     "text": [
      "1,2,FIZZ,4,BUZZ,FIZZ,7,8,FIZZ,BUZZ,11,FIZZ,13,14,FIZZBUZZ,16,17,FIZZ,19,BUZZ,FIZZ,22,23,FIZZ,BUZZ,26,FIZZ,28,29,FIZZBUZZ,31,32,FIZZ,34,BUZZ,FIZZ,37,38,FIZZ,BUZZ,41,FIZZ,43,44,FIZZBUZZ,46,47,FIZZ,49,BUZZ,FIZZ,52,53,FIZZ,BUZZ,56,FIZZ,58,59,FIZZBUZZ,61,62,FIZZ,64,BUZZ,FIZZ,67,68,FIZZ,BUZZ,71,FIZZ,73,74,FIZZBUZZ,76,77,FIZZ,79,BUZZ,FIZZ,82,83,FIZZ,BUZZ,86,FIZZ,88,89,FIZZBUZZ,91,92,FIZZ,94,BUZZ,FIZZ,97,98,FIZZ,BUZZ,"
     ]
    }
   ],
   "source": [
    "for i in range(1,101):\n",
    "    print('FIZZ' *(i%3==0) +'BUZZ' *(i%5==0) or i, end=',')"
   ]
  },
  {
   "cell_type": "code",
   "execution_count": null,
   "metadata": {},
   "outputs": [],
   "source": []
  }
 ],
 "metadata": {
  "interpreter": {
   "hash": "01028a136781fc040f4ca2fc342be4af38db445d6d6e41b2bf3d0a768d20aeda"
  },
  "kernelspec": {
   "display_name": "Python 3.8.8 64-bit (conda)",
   "language": "python",
   "name": "python3"
  },
  "language_info": {
   "codemirror_mode": {
    "name": "ipython",
    "version": 3
   },
   "file_extension": ".py",
   "mimetype": "text/x-python",
   "name": "python",
   "nbconvert_exporter": "python",
   "pygments_lexer": "ipython3",
   "version": "3.8.8"
  },
  "orig_nbformat": 4
 },
 "nbformat": 4,
 "nbformat_minor": 2
}
