{
 "cells": [
  {
   "cell_type": "markdown",
   "metadata": {},
   "source": [
    "# Unit 13 조건문"
   ]
  },
  {
   "cell_type": "code",
   "execution_count": 62,
   "metadata": {},
   "outputs": [
    {
     "name": "stdout",
     "output_type": "stream",
     "text": [
      "우산을 가지고 나간다.\n"
     ]
    }
   ],
   "source": [
    "# 특정 조건일 때 코드를 실행하는 문법 결과가 boolean 형식으로 나온다\n",
    "# 0을 제외한 정수는 true\n",
    "\n",
    "if '비가 온다면':   # 명령어 통신을 할 때 한글로 줘도 가능하다. 를 알수있음\n",
    "    print('우산을 가지고 나간다.')"
   ]
  },
  {
   "cell_type": "code",
   "execution_count": 63,
   "metadata": {},
   "outputs": [
    {
     "name": "stdout",
     "output_type": "stream",
     "text": [
      "10 입니다.\n"
     ]
    }
   ],
   "source": [
    "x = 10\n",
    "\n",
    "if x==10: # 문법을 완성 하면 자동 들여쓰기... 지원\n",
    "    print('10 입니다.')\n"
   ]
  },
  {
   "cell_type": "code",
   "execution_count": 64,
   "metadata": {},
   "outputs": [
    {
     "name": "stdout",
     "output_type": "stream",
     "text": [
      "10입니다\n",
      "이곳은 조건이 참일 경우에 실행되는 문장\n",
      "이곳은 조건과 무관하게 실행되는 문장입니다.\n"
     ]
    }
   ],
   "source": [
    "if x == 10:\n",
    "    print('10입니다')\n",
    "    print('이곳은 조건이 참일 경우에 실행되는 문장')\n",
    "print('이곳은 조건과 무관하게 실행되는 문장입니다.')"
   ]
  },
  {
   "cell_type": "markdown",
   "metadata": {},
   "source": [
    "- 중첩(Nested)조건문"
   ]
  },
  {
   "cell_type": "code",
   "execution_count": 65,
   "metadata": {},
   "outputs": [
    {
     "name": "stdout",
     "output_type": "stream",
     "text": [
      "10 초과\n",
      "3의 배수다\n",
      "5의 배수입니다.\n"
     ]
    }
   ],
   "source": [
    "x = 15\n",
    "\n",
    "if x > 10:\n",
    "    print(\"10 초과\")\n",
    "    if x%3 == 0: #3의 배수를 알게해주는 나머지 값 \n",
    "        print('3의 배수다')\n",
    "        if x%5 == 0:\n",
    "            print('5의 배수입니다.')\n"
   ]
  },
  {
   "cell_type": "code",
   "execution_count": 66,
   "metadata": {},
   "outputs": [
    {
     "ename": "ValueError",
     "evalue": "invalid literal for int() with base 10: 'ㄴㅇ'",
     "output_type": "error",
     "traceback": [
      "\u001b[1;31m---------------------------------------------------------------------------\u001b[0m",
      "\u001b[1;31mValueError\u001b[0m                                Traceback (most recent call last)",
      "\u001b[1;32m<ipython-input-66-90e521b0609a>\u001b[0m in \u001b[0;36m<module>\u001b[1;34m\u001b[0m\n\u001b[1;32m----> 1\u001b[1;33m \u001b[0mx\u001b[0m \u001b[1;33m=\u001b[0m \u001b[0mint\u001b[0m\u001b[1;33m(\u001b[0m\u001b[0minput\u001b[0m\u001b[1;33m(\u001b[0m\u001b[1;34m'정수 입력'\u001b[0m\u001b[1;33m)\u001b[0m\u001b[1;33m)\u001b[0m\u001b[1;33m\u001b[0m\u001b[1;33m\u001b[0m\u001b[0m\n\u001b[0m",
      "\u001b[1;31mValueError\u001b[0m: invalid literal for int() with base 10: 'ㄴㅇ'"
     ]
    }
   ],
   "source": [
    "x = int(input('정수 입력'))"
   ]
  },
  {
   "cell_type": "code",
   "execution_count": null,
   "metadata": {},
   "outputs": [],
   "source": [
    "if x > 10:\n",
    "    print(\"10 초과\")\n",
    "    if x%3 == 0: #3의 배수를 알게해주는 나머지 값 \n",
    "        print('3의 배수다')\n",
    "        if x%5 == 0:\n",
    "            print('5의 배수입니다.')\n"
   ]
  },
  {
   "cell_type": "code",
   "execution_count": null,
   "metadata": {},
   "outputs": [
    {
     "name": "stdout",
     "output_type": "stream",
     "text": [
      "10 초과\n",
      "x 값은 13입니다\n"
     ]
    }
   ],
   "source": [
    "import random\n",
    "x = random.randint(5,20) # 5~ 20 중에 정수로 리턴해주는 랜덤 클라스~\n",
    "# random.seed(2021) # 시드를 주면 랜덤 넘버가 나오는 숫자가 동일해 진다.\n",
    "\n",
    "if x > 10:\n",
    "    print(\"10 초과\")\n",
    "    if x%3 == 0: #3의 배수를 알게해주는 나머지 값 \n",
    "        print('3의 배수다')\n",
    "        if x%5 == 0:\n",
    "            print('5의 배수입니다.')\n",
    "print(f'x 값은 {x}입니다')\n",
    "\n"
   ]
  },
  {
   "cell_type": "code",
   "execution_count": 67,
   "metadata": {},
   "outputs": [
    {
     "name": "stdout",
     "output_type": "stream",
     "text": [
      "10이하\n"
     ]
    }
   ],
   "source": [
    "x = 5\n",
    "\n",
    "if x > 10:\n",
    "    print('10 초과')\n",
    "\n",
    "else:\n",
    "    print('10이하')\n",
    "\n"
   ]
  },
  {
   "cell_type": "code",
   "execution_count": 70,
   "metadata": {},
   "outputs": [
    {
     "name": "stdout",
     "output_type": "stream",
     "text": [
      "5는홀수입니다\n"
     ]
    }
   ],
   "source": [
    "if x > 15:\n",
    "    pass # 아무일도 하지 않지만 앞으로 여기에다가 \n",
    "         # 내가 무슨 짓을 할꺼야. 개발시 많이사용\n",
    "         # \n",
    "\n",
    "import random\n",
    "x = random.randint(1,100)\n",
    "\n",
    "if x % 2 == 0:\n",
    "    result = \"짝수\"\n",
    "    #print(f'{x}는짝수입니다.') \n",
    "else:\n",
    "    result = \"홀수\"\n",
    "    #print(f'{x}는홀수입니다.')    \n",
    "\n",
    "print(f'{x}는{result}입니다')"
   ]
  },
  {
   "cell_type": "code",
   "execution_count": 72,
   "metadata": {},
   "outputs": [
    {
     "name": "stdout",
     "output_type": "stream",
     "text": [
      "61는홀수입니다\n"
     ]
    }
   ],
   "source": [
    "# 3항 연산자\n",
    "# 보통 조건부 표현식은 람다 표현식에서 자주 사용 됩니다 \n",
    "x = random.randint(1,100)\n",
    "result = '짝수' if x % 2 == 00 else '홀수' # 삼항 연산자 외울 것\n",
    "print(f'{x}는{result}입니다')"
   ]
  },
  {
   "cell_type": "markdown",
   "metadata": {},
   "source": [
    "ㅇ 여러개의 조건식  "
   ]
  },
  {
   "cell_type": "code",
   "execution_count": 11,
   "metadata": {},
   "outputs": [
    {
     "data": {
      "text/plain": [
       "\"  map(int,input())\\nif x> 0:\\n    if x < 20:\\n        print('20보다 작은 양수입니다.') \""
      ]
     },
     "execution_count": 11,
     "metadata": {},
     "output_type": "execute_result"
    }
   ],
   "source": [
    "x= 10\n",
    "'''  map(int,input())\n",
    "if x> 0:\n",
    "    if x < 20:\n",
    "        print('20보다 작은 양수입니다.') '''"
   ]
  },
  {
   "cell_type": "code",
   "execution_count": 14,
   "metadata": {},
   "outputs": [
    {
     "name": "stdout",
     "output_type": "stream",
     "text": [
      "20보다 작은 양수입니다\n"
     ]
    }
   ],
   "source": [
    "# 0보다 크고 20보다 작은 (AND)\n",
    "if x > 0 and x < 20:\n",
    "    print('20보다 작은 양수입니다')  "
   ]
  },
  {
   "cell_type": "code",
   "execution_count": null,
   "metadata": {},
   "outputs": [],
   "source": []
  }
 ],
 "metadata": {
  "interpreter": {
   "hash": "01028a136781fc040f4ca2fc342be4af38db445d6d6e41b2bf3d0a768d20aeda"
  },
  "kernelspec": {
   "display_name": "Python 3.8.8 64-bit (conda)",
   "language": "python",
   "name": "python3"
  },
  "language_info": {
   "codemirror_mode": {
    "name": "ipython",
    "version": 3
   },
   "file_extension": ".py",
   "mimetype": "text/x-python",
   "name": "python",
   "nbconvert_exporter": "python",
   "pygments_lexer": "ipython3",
   "version": "3.8.8"
  },
  "orig_nbformat": 4
 },
 "nbformat": 4,
 "nbformat_minor": 2
}
