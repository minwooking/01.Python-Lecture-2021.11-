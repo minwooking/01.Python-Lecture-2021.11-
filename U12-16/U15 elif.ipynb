{
 "cells": [
  {
   "cell_type": "markdown",
   "metadata": {},
   "source": [
    "# Unit 14. Elif"
   ]
  },
  {
   "cell_type": "code",
   "execution_count": 1,
   "metadata": {},
   "outputs": [],
   "source": [
    "# elif 는 다른 프로그램에서는 else if 이다. 파이썬 왜저럴까"
   ]
  },
  {
   "cell_type": "code",
   "execution_count": 5,
   "metadata": {},
   "outputs": [
    {
     "name": "stdout",
     "output_type": "stream",
     "text": [
      "63는 D입니다.\n"
     ]
    }
   ],
   "source": [
    "# 90점 이상 'A', 80점 이상 'B' , 70점이상 'C' , 60점 이상 'D', 아니면 F\n",
    "# 순서를 이상하게 하게 원하는 결과가 안나올수있음\n",
    "import random\n",
    "\n",
    "score = random.randint(50,100)\n",
    "\n",
    "if score >= 90: grade = 'A'\n",
    "elif score >= 80: grade = 'B'\n",
    "elif score >= 70: grade = 'c'\n",
    "elif score >= 60: grade = 'D'\n",
    "else: grade = 'F'        \n",
    "print(f'{score}는 {grade}입니다.')\n"
   ]
  },
  {
   "cell_type": "code",
   "execution_count": 11,
   "metadata": {},
   "outputs": [
    {
     "ename": "SyntaxError",
     "evalue": "unexpected character after line continuation character (<ipython-input-11-8bba803cebc7>, line 2)",
     "output_type": "error",
     "traceback": [
      "\u001b[1;36m  File \u001b[1;32m\"<ipython-input-11-8bba803cebc7>\"\u001b[1;36m, line \u001b[1;32m2\u001b[0m\n\u001b[1;33m    grade = 'Exellent' if score >= 80 else \\\u001b[0m\n\u001b[1;37m                                             ^\u001b[0m\n\u001b[1;31mSyntaxError\u001b[0m\u001b[1;31m:\u001b[0m unexpected character after line continuation character\n"
     ]
    }
   ],
   "source": [
    "score = random.randint(50,100) # 백슬래쉬 이용해서 줄바꿈 \n",
    "grade = 'Exellent' if score >= 80 else \\\n",
    "            'good' if score >= 60 else 'Poor'\n",
    "print(f'{score}\\n{grade}입니다')            "
   ]
  },
  {
   "cell_type": "code",
   "execution_count": 12,
   "metadata": {},
   "outputs": [
    {
     "name": "stdout",
     "output_type": "stream",
     "text": [
      "57\n",
      "Poor입니다\n"
     ]
    }
   ],
   "source": [
    "score = random.randint(50,100) # 백슬래쉬 이용해서 줄바꿈 \n",
    "grade = 'Exellent' if score >= 80 else 'good' if score >= 60 else 'Poor'\n",
    "print(f'{score}\\n{grade}입니다')   "
   ]
  },
  {
   "cell_type": "code",
   "execution_count": 17,
   "metadata": {},
   "outputs": [
    {
     "name": "stdout",
     "output_type": "stream",
     "text": [
      "57\n",
      "F입니다\n"
     ]
    }
   ],
   "source": [
    "# IF 문을 가지고 아무거나 다 할 수 있다. 잘 활용해봐라 \n",
    "# 삼항연산을 이용하면 좀 더 직관적이고 관계를 쉽게 나타낼 수 있어서 \n",
    "grade = 'A' if score >= 90 else \\\n",
    "            'B' if score >= 80 else \\\n",
    "                'c' if score >= 70 else \\\n",
    "                    'D' if score >= 60 else 'F'\n",
    "\n",
    "print(f'{score}\\n{grade}입니다')  # F 스트링 ~ "
   ]
  },
  {
   "cell_type": "code",
   "execution_count": null,
   "metadata": {},
   "outputs": [],
   "source": []
  }
 ],
 "metadata": {
  "interpreter": {
   "hash": "01028a136781fc040f4ca2fc342be4af38db445d6d6e41b2bf3d0a768d20aeda"
  },
  "kernelspec": {
   "display_name": "Python 3.8.8 64-bit (conda)",
   "language": "python",
   "name": "python3"
  },
  "language_info": {
   "codemirror_mode": {
    "name": "ipython",
    "version": 3
   },
   "file_extension": ".py",
   "mimetype": "text/x-python",
   "name": "python",
   "nbconvert_exporter": "python",
   "pygments_lexer": "ipython3",
   "version": "3.8.8"
  },
  "orig_nbformat": 4
 },
 "nbformat": 4,
 "nbformat_minor": 2
}
