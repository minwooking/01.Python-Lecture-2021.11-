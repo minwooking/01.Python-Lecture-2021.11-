{
 "cells": [
  {
   "cell_type": "markdown",
   "metadata": {},
   "source": [
    "# Unit 16 반복문\n",
    "\n",
    "### for range"
   ]
  },
  {
   "cell_type": "code",
   "execution_count": null,
   "metadata": {},
   "outputs": [],
   "source": [
    "# for문은 모든프로그램 랭귀지에서 지원을한다. 왠만하면 횟수가 정해져있는경우에~\n",
    "# while 과 다름\n",
    "\n",
    "# range 는 시작은 포함하고 끝은 포함하지 않는다.\n",
    "# for 변수(i) in range(횟수):  \n",
    "#      반복할 코드"
   ]
  },
  {
   "cell_type": "code",
   "execution_count": null,
   "metadata": {},
   "outputs": [],
   "source": [
    "for i in range(100):print(f'{i}번 안녕하세요',i)"
   ]
  },
  {
   "cell_type": "code",
   "execution_count": null,
   "metadata": {},
   "outputs": [],
   "source": [
    "# 반복문 프로그램의 꽃이다~\n",
    "# for i in list[1,5,9]: 리스트도 가능함\n",
    "# for element in list[range()] \n",
    "# index 의 첫글자 i를 따서 I를 주로 변수로 사용함"
   ]
  },
  {
   "cell_type": "code",
   "execution_count": null,
   "metadata": {},
   "outputs": [],
   "source": [
    "# 시작과 끝 지정 가능\n",
    "for i in range(5,12):print(f'{i}번 안녕하세요',i)\n"
   ]
  },
  {
   "cell_type": "code",
   "execution_count": null,
   "metadata": {},
   "outputs": [],
   "source": [
    "for i in range(10,1,-2):\n",
    "    print(i)\n"
   ]
  },
  {
   "cell_type": "code",
   "execution_count": null,
   "metadata": {},
   "outputs": [],
   "source": [
    "for i in range(1,10,1):\n",
    "    for j in range(1,10,1) print(f'{i}번 안녕하세요',i)\n"
   ]
  },
  {
   "cell_type": "code",
   "execution_count": null,
   "metadata": {},
   "outputs": [],
   "source": [
    "# 행열 곱 구하는 공식\n",
    "''' for i in range(m):\n",
    "        for j in range(r):\n",
    "            for k in range(n): '''\n",
    "# np.dot(a,b) 라는 함수를 알게 되면 바로 그냥 해버리면됨 \n",
    "# 데이터 라이브러리를 알고 이용하면 됨\n",
    "# 2차원 for문 까지는 할줄알아야한다."
   ]
  },
  {
   "cell_type": "code",
   "execution_count": null,
   "metadata": {},
   "outputs": [],
   "source": [
    "# 값은 바뀔지라도 ? 왜이렇게 되는걸까\n",
    "# for loop의 index 값은 변경시키지 말 것 \n",
    "for i in range(5):\n",
    "    i *= 2\n",
    "    print(i)"
   ]
  },
  {
   "cell_type": "code",
   "execution_count": null,
   "metadata": {},
   "outputs": [],
   "source": [
    "# 대신 이렇게 할 것 \n",
    "for i in range(5):\n",
    "    k = i * 2\n",
    "    print(k)"
   ]
  },
  {
   "cell_type": "markdown",
   "metadata": {},
   "source": [
    "# 16-3 sequence 객체"
   ]
  },
  {
   "cell_type": "code",
   "execution_count": null,
   "metadata": {},
   "outputs": [],
   "source": [
    "a = [10,20,30,40,50]\n",
    "for i in a:\n",
    "    print(i)"
   ]
  },
  {
   "cell_type": "code",
   "execution_count": null,
   "metadata": {},
   "outputs": [],
   "source": [
    "fruits = ('사과','배','귤')\n",
    "for fruit in fruits:\n",
    "    print(fruit)"
   ]
  },
  {
   "cell_type": "code",
   "execution_count": null,
   "metadata": {},
   "outputs": [],
   "source": [
    "#튜플 에서 바뀌면서 주소\n",
    "\n",
    "for letter in 'Python':\n",
    "    print(letter, end=' ')"
   ]
  },
  {
   "cell_type": "markdown",
   "metadata": {},
   "source": [
    "# While 반복문"
   ]
  },
  {
   "cell_type": "code",
   "execution_count": null,
   "metadata": {},
   "outputs": [],
   "source": [
    "i = 0\n",
    "while i < 100:\n",
    "    print('Hello, world!')\n",
    "    i += 1"
   ]
  },
  {
   "cell_type": "code",
   "execution_count": null,
   "metadata": {},
   "outputs": [],
   "source": [
    "# while 문은 횟수가 지정안되어있을때 활용하는 게 좋음\n",
    "# 조건 없는 무한반복은 버그"
   ]
  },
  {
   "cell_type": "markdown",
   "metadata": {},
   "source": [
    "- 반복문 응용"
   ]
  },
  {
   "cell_type": "code",
   "execution_count": null,
   "metadata": {},
   "outputs": [],
   "source": [
    "product = 1\n",
    "for i in range(1,11):\n",
    "    product *= i \n",
    "print(product)"
   ]
  },
  {
   "cell_type": "code",
   "execution_count": null,
   "metadata": {},
   "outputs": [],
   "source": [
    "import math \n",
    "math.sqrt(4)\n"
   ]
  },
  {
   "cell_type": "code",
   "execution_count": null,
   "metadata": {},
   "outputs": [],
   "source": [
    "# 1에서 10까지 루트값으로 리스트 만들기\n",
    "sqrt_num = []\n",
    "for i in range(1,11):\n",
    "    sqrt_num.append(round(math.sqrt(i),4))\n",
    "sqrt_num # appned란 빈 거 채우는거"
   ]
  },
  {
   "cell_type": "code",
   "execution_count": null,
   "metadata": {},
   "outputs": [],
   "source": [
    "# for-loop, 1에서 얼마까지  더하면 누적합이 300을 초과하는지 \n",
    "sum = 0\n",
    "for i in range(300): \n",
    "    sum += i \n",
    "    if sum > 300: break \n",
    "print(i,sum)   "
   ]
  },
  {
   "cell_type": "code",
   "execution_count": null,
   "metadata": {},
   "outputs": [],
   "source": []
  }
 ],
 "metadata": {
  "interpreter": {
   "hash": "01028a136781fc040f4ca2fc342be4af38db445d6d6e41b2bf3d0a768d20aeda"
  },
  "kernelspec": {
   "display_name": "Python 3.8.8 64-bit (conda)",
   "language": "python",
   "name": "python3"
  },
  "language_info": {
   "codemirror_mode": {
    "name": "ipython",
    "version": 3
   },
   "file_extension": ".py",
   "mimetype": "text/x-python",
   "name": "python",
   "nbconvert_exporter": "python",
   "pygments_lexer": "ipython3",
   "version": "3.8.8"
  },
  "orig_nbformat": 4
 },
 "nbformat": 4,
 "nbformat_minor": 2
}
