{
 "cells": [
  {
   "cell_type": "markdown",
   "metadata": {},
   "source": [
    "# Unit 16 반복문\n",
    "\n",
    "### for range"
   ]
  },
  {
   "cell_type": "code",
   "execution_count": 1,
   "metadata": {},
   "outputs": [],
   "source": [
    "# for문은 모든프로그램 랭귀지에서 지원을한다. 왠만하면 횟수가 정해져있는경우에~\n",
    "# while 과 다름\n",
    "\n",
    "# range 는 시작은 포함하고 끝은 포함하지 않는다.\n",
    "# for 변수(i) in range(횟수):  \n",
    "#      반복할 코드"
   ]
  },
  {
   "cell_type": "code",
   "execution_count": 10,
   "metadata": {},
   "outputs": [
    {
     "name": "stdout",
     "output_type": "stream",
     "text": [
      "0번 안녕하세요 0\n",
      "1번 안녕하세요 1\n",
      "2번 안녕하세요 2\n",
      "3번 안녕하세요 3\n",
      "4번 안녕하세요 4\n",
      "5번 안녕하세요 5\n",
      "6번 안녕하세요 6\n",
      "7번 안녕하세요 7\n",
      "8번 안녕하세요 8\n",
      "9번 안녕하세요 9\n",
      "10번 안녕하세요 10\n",
      "11번 안녕하세요 11\n",
      "12번 안녕하세요 12\n",
      "13번 안녕하세요 13\n",
      "14번 안녕하세요 14\n",
      "15번 안녕하세요 15\n",
      "16번 안녕하세요 16\n",
      "17번 안녕하세요 17\n",
      "18번 안녕하세요 18\n",
      "19번 안녕하세요 19\n",
      "20번 안녕하세요 20\n",
      "21번 안녕하세요 21\n",
      "22번 안녕하세요 22\n",
      "23번 안녕하세요 23\n",
      "24번 안녕하세요 24\n",
      "25번 안녕하세요 25\n",
      "26번 안녕하세요 26\n",
      "27번 안녕하세요 27\n",
      "28번 안녕하세요 28\n",
      "29번 안녕하세요 29\n",
      "30번 안녕하세요 30\n",
      "31번 안녕하세요 31\n",
      "32번 안녕하세요 32\n",
      "33번 안녕하세요 33\n",
      "34번 안녕하세요 34\n",
      "35번 안녕하세요 35\n",
      "36번 안녕하세요 36\n",
      "37번 안녕하세요 37\n",
      "38번 안녕하세요 38\n",
      "39번 안녕하세요 39\n",
      "40번 안녕하세요 40\n",
      "41번 안녕하세요 41\n",
      "42번 안녕하세요 42\n",
      "43번 안녕하세요 43\n",
      "44번 안녕하세요 44\n",
      "45번 안녕하세요 45\n",
      "46번 안녕하세요 46\n",
      "47번 안녕하세요 47\n",
      "48번 안녕하세요 48\n",
      "49번 안녕하세요 49\n",
      "50번 안녕하세요 50\n",
      "51번 안녕하세요 51\n",
      "52번 안녕하세요 52\n",
      "53번 안녕하세요 53\n",
      "54번 안녕하세요 54\n",
      "55번 안녕하세요 55\n",
      "56번 안녕하세요 56\n",
      "57번 안녕하세요 57\n",
      "58번 안녕하세요 58\n",
      "59번 안녕하세요 59\n",
      "60번 안녕하세요 60\n",
      "61번 안녕하세요 61\n",
      "62번 안녕하세요 62\n",
      "63번 안녕하세요 63\n",
      "64번 안녕하세요 64\n",
      "65번 안녕하세요 65\n",
      "66번 안녕하세요 66\n",
      "67번 안녕하세요 67\n",
      "68번 안녕하세요 68\n",
      "69번 안녕하세요 69\n",
      "70번 안녕하세요 70\n",
      "71번 안녕하세요 71\n",
      "72번 안녕하세요 72\n",
      "73번 안녕하세요 73\n",
      "74번 안녕하세요 74\n",
      "75번 안녕하세요 75\n",
      "76번 안녕하세요 76\n",
      "77번 안녕하세요 77\n",
      "78번 안녕하세요 78\n",
      "79번 안녕하세요 79\n",
      "80번 안녕하세요 80\n",
      "81번 안녕하세요 81\n",
      "82번 안녕하세요 82\n",
      "83번 안녕하세요 83\n",
      "84번 안녕하세요 84\n",
      "85번 안녕하세요 85\n",
      "86번 안녕하세요 86\n",
      "87번 안녕하세요 87\n",
      "88번 안녕하세요 88\n",
      "89번 안녕하세요 89\n",
      "90번 안녕하세요 90\n",
      "91번 안녕하세요 91\n",
      "92번 안녕하세요 92\n",
      "93번 안녕하세요 93\n",
      "94번 안녕하세요 94\n",
      "95번 안녕하세요 95\n",
      "96번 안녕하세요 96\n",
      "97번 안녕하세요 97\n",
      "98번 안녕하세요 98\n",
      "99번 안녕하세요 99\n"
     ]
    }
   ],
   "source": [
    "for i in range(100):print(f'{i}번 안녕하세요',i)"
   ]
  },
  {
   "cell_type": "code",
   "execution_count": null,
   "metadata": {},
   "outputs": [],
   "source": [
    "# 반복문 프로그램의 꽃이다~\n",
    "# for i in list[1,5,9]: 리스트도 가능함\n",
    "# for element in list[range()] \n",
    "# index 의 첫글자 i를 따서 I를 주로 변수로 사용함"
   ]
  },
  {
   "cell_type": "code",
   "execution_count": 14,
   "metadata": {},
   "outputs": [
    {
     "name": "stdout",
     "output_type": "stream",
     "text": [
      "5번 안녕하세요 5\n",
      "6번 안녕하세요 6\n",
      "7번 안녕하세요 7\n",
      "8번 안녕하세요 8\n",
      "9번 안녕하세요 9\n",
      "10번 안녕하세요 10\n",
      "11번 안녕하세요 11\n"
     ]
    }
   ],
   "source": [
    "# 시작과 끝 지정 가능\n",
    "for i in range(5,12):print(f'{i}번 안녕하세요',i)\n"
   ]
  },
  {
   "cell_type": "code",
   "execution_count": 16,
   "metadata": {},
   "outputs": [
    {
     "name": "stdout",
     "output_type": "stream",
     "text": [
      "10\n",
      "8\n",
      "6\n",
      "4\n",
      "2\n"
     ]
    }
   ],
   "source": [
    "for i in range(10,1,-2):\n",
    "    print(i)\n"
   ]
  },
  {
   "cell_type": "code",
   "execution_count": 19,
   "metadata": {},
   "outputs": [
    {
     "ename": "SyntaxError",
     "evalue": "invalid syntax (<ipython-input-19-deb3615b3aee>, line 1)",
     "output_type": "error",
     "traceback": [
      "\u001b[1;36m  File \u001b[1;32m\"<ipython-input-19-deb3615b3aee>\"\u001b[1;36m, line \u001b[1;32m1\u001b[0m\n\u001b[1;33m    for i in range(1,10,1):for j in range(1,10,1) print(f'{i}번 안녕하세요',i)\u001b[0m\n\u001b[1;37m                           ^\u001b[0m\n\u001b[1;31mSyntaxError\u001b[0m\u001b[1;31m:\u001b[0m invalid syntax\n"
     ]
    }
   ],
   "source": [
    "for i in range(1,10,1):\n",
    "    for j in range(1,10,1) print(f'{i}번 안녕하세요',i)\n"
   ]
  },
  {
   "cell_type": "code",
   "execution_count": 20,
   "metadata": {},
   "outputs": [
    {
     "data": {
      "text/plain": [
       "' for i in range(m):\\n        for j in range(r):\\n            for k in range(n): '"
      ]
     },
     "execution_count": 20,
     "metadata": {},
     "output_type": "execute_result"
    }
   ],
   "source": [
    "# 행열 곱 구하는 공식\n",
    "''' for i in range(m):\n",
    "        for j in range(r):\n",
    "            for k in range(n): '''\n",
    "# np.dot(a,b) 라는 함수를 알게 되면 바로 그냥 해버리면됨 \n",
    "# 데이터 라이브러리를 알고 이용하면 됨\n",
    "# 2차원 for문 까지는 할줄알아야한다."
   ]
  },
  {
   "cell_type": "code",
   "execution_count": 25,
   "metadata": {},
   "outputs": [
    {
     "name": "stdout",
     "output_type": "stream",
     "text": [
      "0\n",
      "2\n",
      "4\n",
      "6\n",
      "8\n"
     ]
    }
   ],
   "source": [
    "# 값은 바뀔지라도 ? 왜이렇게 되는걸까\n",
    "# for loop의 index 값은 변경시키지 말 것 \n",
    "for i in range(5):\n",
    "    i *= 2\n",
    "    print(i)"
   ]
  },
  {
   "cell_type": "code",
   "execution_count": 26,
   "metadata": {},
   "outputs": [
    {
     "name": "stdout",
     "output_type": "stream",
     "text": [
      "0\n",
      "2\n",
      "4\n",
      "6\n",
      "8\n"
     ]
    }
   ],
   "source": [
    "# 대신 이렇게 할 것 \n",
    "for i in range(5):\n",
    "    k = i * 2\n",
    "    print(k)"
   ]
  },
  {
   "cell_type": "markdown",
   "metadata": {},
   "source": [
    "# 16-3 sequence 객체"
   ]
  },
  {
   "cell_type": "code",
   "execution_count": 32,
   "metadata": {},
   "outputs": [
    {
     "name": "stdout",
     "output_type": "stream",
     "text": [
      "10\n",
      "20\n",
      "30\n",
      "40\n",
      "50\n"
     ]
    }
   ],
   "source": [
    "a = [10,20,30,40,50]\n",
    "for i in a:\n",
    "    print(i)"
   ]
  },
  {
   "cell_type": "code",
   "execution_count": 33,
   "metadata": {},
   "outputs": [
    {
     "name": "stdout",
     "output_type": "stream",
     "text": [
      "사과\n",
      "배\n",
      "귤\n"
     ]
    }
   ],
   "source": [
    "fruits = ('사과','배','귤')\n",
    "for fruit in fruits:\n",
    "    print(fruit)"
   ]
  },
  {
   "cell_type": "code",
   "execution_count": 35,
   "metadata": {},
   "outputs": [
    {
     "name": "stdout",
     "output_type": "stream",
     "text": [
      "P y t h o n "
     ]
    }
   ],
   "source": [
    "#튜플 에서 바뀌면서 주소\n",
    "\n",
    "for letter in 'Python':\n",
    "    print(letter, end=' ')"
   ]
  },
  {
   "cell_type": "markdown",
   "metadata": {},
   "source": [
    "# While 반복문"
   ]
  },
  {
   "cell_type": "code",
   "execution_count": 37,
   "metadata": {},
   "outputs": [
    {
     "name": "stdout",
     "output_type": "stream",
     "text": [
      "Hello, world!\n",
      "Hello, world!\n",
      "Hello, world!\n",
      "Hello, world!\n",
      "Hello, world!\n",
      "Hello, world!\n",
      "Hello, world!\n",
      "Hello, world!\n",
      "Hello, world!\n",
      "Hello, world!\n",
      "Hello, world!\n",
      "Hello, world!\n",
      "Hello, world!\n",
      "Hello, world!\n",
      "Hello, world!\n",
      "Hello, world!\n",
      "Hello, world!\n",
      "Hello, world!\n",
      "Hello, world!\n",
      "Hello, world!\n",
      "Hello, world!\n",
      "Hello, world!\n",
      "Hello, world!\n",
      "Hello, world!\n",
      "Hello, world!\n",
      "Hello, world!\n",
      "Hello, world!\n",
      "Hello, world!\n",
      "Hello, world!\n",
      "Hello, world!\n",
      "Hello, world!\n",
      "Hello, world!\n",
      "Hello, world!\n",
      "Hello, world!\n",
      "Hello, world!\n",
      "Hello, world!\n",
      "Hello, world!\n",
      "Hello, world!\n",
      "Hello, world!\n",
      "Hello, world!\n",
      "Hello, world!\n",
      "Hello, world!\n",
      "Hello, world!\n",
      "Hello, world!\n",
      "Hello, world!\n",
      "Hello, world!\n",
      "Hello, world!\n",
      "Hello, world!\n",
      "Hello, world!\n",
      "Hello, world!\n",
      "Hello, world!\n",
      "Hello, world!\n",
      "Hello, world!\n",
      "Hello, world!\n",
      "Hello, world!\n",
      "Hello, world!\n",
      "Hello, world!\n",
      "Hello, world!\n",
      "Hello, world!\n",
      "Hello, world!\n",
      "Hello, world!\n",
      "Hello, world!\n",
      "Hello, world!\n",
      "Hello, world!\n",
      "Hello, world!\n",
      "Hello, world!\n",
      "Hello, world!\n",
      "Hello, world!\n",
      "Hello, world!\n",
      "Hello, world!\n",
      "Hello, world!\n",
      "Hello, world!\n",
      "Hello, world!\n",
      "Hello, world!\n",
      "Hello, world!\n",
      "Hello, world!\n",
      "Hello, world!\n",
      "Hello, world!\n",
      "Hello, world!\n",
      "Hello, world!\n",
      "Hello, world!\n",
      "Hello, world!\n",
      "Hello, world!\n",
      "Hello, world!\n",
      "Hello, world!\n",
      "Hello, world!\n",
      "Hello, world!\n",
      "Hello, world!\n",
      "Hello, world!\n",
      "Hello, world!\n",
      "Hello, world!\n",
      "Hello, world!\n",
      "Hello, world!\n",
      "Hello, world!\n",
      "Hello, world!\n",
      "Hello, world!\n",
      "Hello, world!\n",
      "Hello, world!\n",
      "Hello, world!\n",
      "Hello, world!\n"
     ]
    }
   ],
   "source": [
    "i = 0\n",
    "while i < 100:\n",
    "    print('Hello, world!')\n",
    "    i += 1"
   ]
  },
  {
   "cell_type": "code",
   "execution_count": 38,
   "metadata": {},
   "outputs": [],
   "source": [
    "# while 문은 횟수가 지정안되어있을때 활용하는 게 좋음\n",
    "# 조건 없는 무한반복은 버그"
   ]
  },
  {
   "cell_type": "markdown",
   "metadata": {},
   "source": [
    "- 반복문 응용"
   ]
  },
  {
   "cell_type": "code",
   "execution_count": 48,
   "metadata": {},
   "outputs": [
    {
     "name": "stdout",
     "output_type": "stream",
     "text": [
      "3628800\n"
     ]
    }
   ],
   "source": [
    "product = 1\n",
    "for i in range(1,11):\n",
    "    product *= i \n",
    "print(product)"
   ]
  },
  {
   "cell_type": "code",
   "execution_count": 62,
   "metadata": {},
   "outputs": [
    {
     "data": {
      "text/plain": [
       "2.0"
      ]
     },
     "execution_count": 62,
     "metadata": {},
     "output_type": "execute_result"
    }
   ],
   "source": [
    "import math \n",
    "math.sqrt(4)\n"
   ]
  },
  {
   "cell_type": "code",
   "execution_count": 70,
   "metadata": {},
   "outputs": [
    {
     "data": {
      "text/plain": [
       "[1.0, 1.4142, 1.7321, 2.0, 2.2361, 2.4495, 2.6458, 2.8284, 3.0, 3.1623]"
      ]
     },
     "execution_count": 70,
     "metadata": {},
     "output_type": "execute_result"
    }
   ],
   "source": [
    "# 1에서 10까지 루트값으로 리스트 만들기\n",
    "sqrt_num = []\n",
    "for i in range(1,11):\n",
    "    sqrt_num.append(round(math.sqrt(i),4))\n",
    "sqrt_num # appned란 빈 거 채우는거"
   ]
  },
  {
   "cell_type": "code",
   "execution_count": 72,
   "metadata": {},
   "outputs": [
    {
     "name": "stdout",
     "output_type": "stream",
     "text": [
      "25 325\n"
     ]
    }
   ],
   "source": [
    "# for-loop, 1에서 얼마까지  더하면 누적합이 300을 초과하는지 \n",
    "sum = 0\n",
    "for i in range(300): \n",
    "    sum += i \n",
    "    if sum > 300: break \n",
    "print(i,sum)   "
   ]
  },
  {
   "cell_type": "code",
   "execution_count": null,
   "metadata": {},
   "outputs": [],
   "source": []
  }
 ],
 "metadata": {
  "interpreter": {
   "hash": "01028a136781fc040f4ca2fc342be4af38db445d6d6e41b2bf3d0a768d20aeda"
  },
  "kernelspec": {
   "display_name": "Python 3.8.8 64-bit (conda)",
   "language": "python",
   "name": "python3"
  },
  "language_info": {
   "codemirror_mode": {
    "name": "ipython",
    "version": 3
   },
   "file_extension": ".py",
   "mimetype": "text/x-python",
   "name": "python",
   "nbconvert_exporter": "python",
   "pygments_lexer": "ipython3",
   "version": "3.8.8"
  },
  "orig_nbformat": 4
 },
 "nbformat": 4,
 "nbformat_minor": 2
}
