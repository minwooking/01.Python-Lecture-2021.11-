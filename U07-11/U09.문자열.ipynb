{
 "cells": [
  {
   "cell_type": "markdown",
   "metadata": {},
   "source": [
    "# unit 9. 문자열"
   ]
  },
  {
   "cell_type": "code",
   "execution_count": 1,
   "metadata": {},
   "outputs": [],
   "source": [
    "hello = 'hello, world!'"
   ]
  },
  {
   "cell_type": "code",
   "execution_count": 6,
   "metadata": {},
   "outputs": [],
   "source": [
    "s1 = \"I'm a student.\" # 취사선택 가능하게함 \"\",'' , '''\n",
    "s2 = 'I\\'m a student.' # 백슬래쉬 사용\n",
    "s3 = '''I'm a student'''\n"
   ]
  },
  {
   "cell_type": "code",
   "execution_count": 8,
   "metadata": {},
   "outputs": [
    {
     "name": "stdout",
     "output_type": "stream",
     "text": [
      "\n",
      "안녕하세요~~ \n",
      "저는 민우입니다 \n",
      "\n"
     ]
    }
   ],
   "source": [
    "s4 = '''\n",
    "안녕하세요~~ \n",
    "저는 민우입니다 \n",
    "'''\n",
    "print(s4)\n",
    "# 여러줄을 이용할 수있음."
   ]
  },
  {
   "cell_type": "code",
   "execution_count": 9,
   "metadata": {},
   "outputs": [
    {
     "data": {
      "text/plain": [
       "'철수영희'"
      ]
     },
     "execution_count": 9,
     "metadata": {},
     "output_type": "execute_result"
    }
   ],
   "source": [
    "'철수'+'영희'"
   ]
  },
  {
   "cell_type": "code",
   "execution_count": 12,
   "metadata": {},
   "outputs": [
    {
     "name": "stdout",
     "output_type": "stream",
     "text": [
      "철수 와 영희 는 제주도에삽니다\n",
      "철수와영희는 제주도에 삽니다.\n"
     ]
    }
   ],
   "source": [
    "name1,name2  = '철수', '영희'\n",
    "res = name1 + '와' + name2 + '는 제주도에 삽니다.'\n",
    "print(name1,'와',name2,\"는 제주도에삽니다\")\n",
    "print(res)"
   ]
  },
  {
   "cell_type": "code",
   "execution_count": 14,
   "metadata": {},
   "outputs": [
    {
     "name": "stdout",
     "output_type": "stream",
     "text": [
      "철수와 영희는 제주도에 삽니다.\n"
     ]
    }
   ],
   "source": [
    "# 파이썬 3.6부터 f-string 사용 가능 \n",
    "res2 = f'{name1}와 {name2}는 제주도에 삽니다.'\n",
    "print(res2)"
   ]
  },
  {
   "cell_type": "code",
   "execution_count": null,
   "metadata": {},
   "outputs": [],
   "source": []
  }
 ],
 "metadata": {
  "interpreter": {
   "hash": "01028a136781fc040f4ca2fc342be4af38db445d6d6e41b2bf3d0a768d20aeda"
  },
  "kernelspec": {
   "display_name": "Python 3.8.8 64-bit (conda)",
   "language": "python",
   "name": "python3"
  },
  "language_info": {
   "codemirror_mode": {
    "name": "ipython",
    "version": 3
   },
   "file_extension": ".py",
   "mimetype": "text/x-python",
   "name": "python",
   "nbconvert_exporter": "python",
   "pygments_lexer": "ipython3",
   "version": "3.8.8"
  },
  "orig_nbformat": 4
 },
 "nbformat": 4,
 "nbformat_minor": 2
}
