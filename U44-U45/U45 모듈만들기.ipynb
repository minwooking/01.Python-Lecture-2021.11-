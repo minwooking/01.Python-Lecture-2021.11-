{
 "cells": [
  {
   "cell_type": "markdown",
   "metadata": {},
   "source": [
    "# 모듈 만들기"
   ]
  },
  {
   "cell_type": "code",
   "execution_count": 5,
   "metadata": {},
   "outputs": [
    {
     "data": {
      "text/plain": [
       "2147483648"
      ]
     },
     "execution_count": 5,
     "metadata": {},
     "output_type": "execute_result"
    }
   ],
   "source": [
    "from library import square1\n",
    "\n",
    "# square2.base, \n",
    "square1.power2(31)"
   ]
  },
  {
   "cell_type": "code",
   "execution_count": 1,
   "metadata": {},
   "outputs": [
    {
     "data": {
      "text/plain": [
       "(2, 2147483648)"
      ]
     },
     "execution_count": 1,
     "metadata": {},
     "output_type": "execute_result"
    }
   ],
   "source": [
    "from library import square1\n",
    "\n",
    "square1.base, square1.power2(31)"
   ]
  },
  {
   "cell_type": "markdown",
   "metadata": {},
   "source": []
  },
  {
   "cell_type": "code",
   "execution_count": 4,
   "metadata": {},
   "outputs": [
    {
     "ename": "RuntimeError",
     "evalue": "super(): no arguments",
     "output_type": "error",
     "traceback": [
      "\u001b[0;31m---------------------------------------------------------------------------\u001b[0m",
      "\u001b[0;31mRuntimeError\u001b[0m                              Traceback (most recent call last)",
      "\u001b[1;32m/Users/gimmin-u/Documents/WorkSpace/01.Python-Lecture-2021.11-/U44-U45/U45 모듈만들기.ipynb Cell 5'\u001b[0m in \u001b[0;36m<cell line: 2>\u001b[0;34m()\u001b[0m\n\u001b[1;32m      <a href='vscode-notebook-cell:/Users/gimmin-u/Documents/WorkSpace/01.Python-Lecture-2021.11-/U44-U45/U45%20%EB%AA%A8%EB%93%88%EB%A7%8C%EB%93%A4%EA%B8%B0.ipynb#ch0000003?line=0'>1</a>\u001b[0m \u001b[39m# from library.person import Person # 디렉토리 구분을 '.'으로 한다 '\\ '로안함\u001b[39;00m\n\u001b[0;32m----> <a href='vscode-notebook-cell:/Users/gimmin-u/Documents/WorkSpace/01.Python-Lecture-2021.11-/U44-U45/U45%20%EB%AA%A8%EB%93%88%EB%A7%8C%EB%93%A4%EA%B8%B0.ipynb#ch0000003?line=1'>2</a>\u001b[0m \u001b[39mfrom\u001b[39;00m \u001b[39mlibrary\u001b[39;00m\u001b[39m.\u001b[39;00m\u001b[39mperson\u001b[39;00m \u001b[39mimport\u001b[39;00m Student\n",
      "File \u001b[0;32m~/Documents/WorkSpace/01.Python-Lecture-2021.11-/U44-U45/library/person.py:23\u001b[0m, in \u001b[0;36m<module>\u001b[0;34m\u001b[0m\n\u001b[1;32m     <a href='file:///Users/gimmin-u/Documents/WorkSpace/01.Python-Lecture-2021.11-/U44-U45/library/person.py?line=19'>20</a>\u001b[0m         \u001b[39melse\u001b[39;00m:\n\u001b[1;32m     <a href='file:///Users/gimmin-u/Documents/WorkSpace/01.Python-Lecture-2021.11-/U44-U45/library/person.py?line=20'>21</a>\u001b[0m             \u001b[39mprint\u001b[39m(\u001b[39mf\u001b[39m\u001b[39m'\u001b[39m\u001b[39m제 주소는 \u001b[39m\u001b[39m{\u001b[39;00m\u001b[39mself\u001b[39m\u001b[39m.\u001b[39maddress\u001b[39m}\u001b[39;00m\u001b[39m입니다\u001b[39m\u001b[39m'\u001b[39m)\n\u001b[0;32m---> <a href='file:///Users/gimmin-u/Documents/WorkSpace/01.Python-Lecture-2021.11-/U44-U45/library/person.py?line=22'>23</a>\u001b[0m \u001b[39mclass\u001b[39;00m \u001b[39mStudent\u001b[39;00m(Person):\n\u001b[1;32m     <a href='file:///Users/gimmin-u/Documents/WorkSpace/01.Python-Lecture-2021.11-/U44-U45/library/person.py?line=23'>24</a>\u001b[0m     \u001b[39msuper\u001b[39m()\u001b[39m.\u001b[39m\u001b[39m__init__\u001b[39m(\u001b[39mself\u001b[39m)\n",
      "File \u001b[0;32m~/Documents/WorkSpace/01.Python-Lecture-2021.11-/U44-U45/library/person.py:24\u001b[0m, in \u001b[0;36mStudent\u001b[0;34m()\u001b[0m\n\u001b[1;32m     <a href='file:///Users/gimmin-u/Documents/WorkSpace/01.Python-Lecture-2021.11-/U44-U45/library/person.py?line=22'>23</a>\u001b[0m \u001b[39mclass\u001b[39;00m \u001b[39mStudent\u001b[39;00m(Person):\n\u001b[0;32m---> <a href='file:///Users/gimmin-u/Documents/WorkSpace/01.Python-Lecture-2021.11-/U44-U45/library/person.py?line=23'>24</a>\u001b[0m     \u001b[39msuper\u001b[39;49m()\u001b[39m.\u001b[39m\u001b[39m__init__\u001b[39m(\u001b[39mself\u001b[39m)\n",
      "\u001b[0;31mRuntimeError\u001b[0m: super(): no arguments"
     ]
    }
   ],
   "source": [
    "# from library.person import Person # 디렉토리 구분을 '.'으로 한다 '\\ '로안함\n",
    "from library.person import Student\n",
    "# maria = Student() \n",
    "# maria.greeting()"
   ]
  },
  {
   "cell_type": "code",
   "execution_count": 2,
   "metadata": {},
   "outputs": [
    {
     "ename": "NameError",
     "evalue": "name 'Student' is not defined",
     "output_type": "error",
     "traceback": [
      "\u001b[0;31m---------------------------------------------------------------------------\u001b[0m",
      "\u001b[0;31mNameError\u001b[0m                                 Traceback (most recent call last)",
      "\u001b[1;32m/Users/gimmin-u/Documents/WorkSpace/01.Python-Lecture-2021.11-/U44-U45/U45 모듈만들기.ipynb Cell 6'\u001b[0m in \u001b[0;36m<cell line: 1>\u001b[0;34m()\u001b[0m\n\u001b[0;32m----> <a href='vscode-notebook-cell:/Users/gimmin-u/Documents/WorkSpace/01.Python-Lecture-2021.11-/U44-U45/U45%20%EB%AA%A8%EB%93%88%EB%A7%8C%EB%93%A4%EA%B8%B0.ipynb#ch0000004?line=0'>1</a>\u001b[0m minwoo \u001b[39m=\u001b[39m Student(\u001b[39m'\u001b[39m\u001b[39m김민우\u001b[39m\u001b[39m'\u001b[39m,\u001b[39m27\u001b[39m,\u001b[39m'\u001b[39m\u001b[39m제주도 제주시 서사로8길\u001b[39m\u001b[39m'\u001b[39m)\n",
      "\u001b[0;31mNameError\u001b[0m: name 'Student' is not defined"
     ]
    }
   ],
   "source": [
    "minwoo = Student('김민우',27,'제주도 제주시 서사로8길')"
   ]
  },
  {
   "cell_type": "code",
   "execution_count": 3,
   "metadata": {},
   "outputs": [
    {
     "ename": "AttributeError",
     "evalue": "'Student' object has no attribute 'name'",
     "output_type": "error",
     "traceback": [
      "\u001b[0;31m---------------------------------------------------------------------------\u001b[0m",
      "\u001b[0;31mAttributeError\u001b[0m                            Traceback (most recent call last)",
      "\u001b[1;32m/Users/gimmin-u/Documents/WorkSpace/01.Python-Lecture-2021.11-/U44-U45/U45 모듈만들기.ipynb Cell 7'\u001b[0m in \u001b[0;36m<cell line: 1>\u001b[0;34m()\u001b[0m\n\u001b[0;32m----> <a href='vscode-notebook-cell:/Users/gimmin-u/Documents/WorkSpace/01.Python-Lecture-2021.11-/U44-U45/U45%20%EB%AA%A8%EB%93%88%EB%A7%8C%EB%93%A4%EA%B8%B0.ipynb#ch0000012?line=0'>1</a>\u001b[0m minwoo\u001b[39m.\u001b[39;49mgreeting()\n",
      "File \u001b[0;32m~/Documents/WorkSpace/01.Python-Lecture-2021.11-/U44-U45/library/person.py:10\u001b[0m, in \u001b[0;36mPerson.greeting\u001b[0;34m(self)\u001b[0m\n\u001b[1;32m      <a href='file:///Users/gimmin-u/Documents/WorkSpace/01.Python-Lecture-2021.11-/U44-U45/library/person.py?line=8'>9</a>\u001b[0m \u001b[39mdef\u001b[39;00m \u001b[39mgreeting\u001b[39m(\u001b[39mself\u001b[39m):\n\u001b[0;32m---> <a href='file:///Users/gimmin-u/Documents/WorkSpace/01.Python-Lecture-2021.11-/U44-U45/library/person.py?line=9'>10</a>\u001b[0m     \u001b[39mif\u001b[39;00m \u001b[39mself\u001b[39;49m\u001b[39m.\u001b[39;49mname \u001b[39m==\u001b[39m \u001b[39mNone\u001b[39;00m:\n\u001b[1;32m     <a href='file:///Users/gimmin-u/Documents/WorkSpace/01.Python-Lecture-2021.11-/U44-U45/library/person.py?line=10'>11</a>\u001b[0m         \u001b[39mprint\u001b[39m(\u001b[39m'\u001b[39m\u001b[39m이름을 입력하지 않았습니다.\u001b[39m\u001b[39m'\u001b[39m)\n\u001b[1;32m     <a href='file:///Users/gimmin-u/Documents/WorkSpace/01.Python-Lecture-2021.11-/U44-U45/library/person.py?line=11'>12</a>\u001b[0m     \u001b[39melse\u001b[39;00m:\n",
      "\u001b[0;31mAttributeError\u001b[0m: 'Student' object has no attribute 'name'"
     ]
    }
   ],
   "source": [
    "minwoo.greeting()"
   ]
  },
  {
   "cell_type": "code",
   "execution_count": 4,
   "metadata": {},
   "outputs": [
    {
     "data": {
      "text/plain": [
       "'안녕하세요.'"
      ]
     },
     "execution_count": 4,
     "metadata": {},
     "output_type": "execute_result"
    }
   ],
   "source": [
    "# minwoo.school\n",
    "minwoo.hello"
   ]
  },
  {
   "cell_type": "code",
   "execution_count": 6,
   "metadata": {},
   "outputs": [
    {
     "name": "stdout",
     "output_type": "stream",
     "text": [
      "Help on class Person in module library.person:\n",
      "\n",
      "class Person(builtins.object)\n",
      " |  Person(name=None, age=None, address=None)\n",
      " |  \n",
      " |  Methods defined here:\n",
      " |  \n",
      " |  __init__(self, name=None, age=None, address=None)\n",
      " |      Initialize self.  See help(type(self)) for accurate signature.\n",
      " |  \n",
      " |  greeting(self)\n",
      " |  \n",
      " |  ----------------------------------------------------------------------\n",
      " |  Data descriptors defined here:\n",
      " |  \n",
      " |  __dict__\n",
      " |      dictionary for instance variables (if defined)\n",
      " |  \n",
      " |  __weakref__\n",
      " |      list of weak references to the object (if defined)\n",
      "\n"
     ]
    }
   ],
   "source": [
    "help(Person)"
   ]
  },
  {
   "cell_type": "code",
   "execution_count": 5,
   "metadata": {},
   "outputs": [
    {
     "name": "stdout",
     "output_type": "stream",
     "text": [
      "이름을 입력하지 않았습니다.\n",
      "나이를 입력하지 않았습니다.\n",
      "주소를 입력하지 않았습니다.\n"
     ]
    }
   ],
   "source": [
    "minwoo.greeting()"
   ]
  },
  {
   "cell_type": "code",
   "execution_count": 4,
   "metadata": {},
   "outputs": [
    {
     "name": "stdout",
     "output_type": "stream",
     "text": [
      "init쓰는법\n"
     ]
    }
   ],
   "source": [
    "minwoo.__init__()"
   ]
  },
  {
   "cell_type": "code",
   "execution_count": null,
   "metadata": {},
   "outputs": [],
   "source": []
  }
 ],
 "metadata": {
  "interpreter": {
   "hash": "655af71284988cdf3b5ceea76d55d0f0a85ebee18fa6597539decef2000c8977"
  },
  "kernelspec": {
   "display_name": "Python 3.9.12 ('base')",
   "language": "python",
   "name": "python3"
  },
  "language_info": {
   "codemirror_mode": {
    "name": "ipython",
    "version": 3
   },
   "file_extension": ".py",
   "mimetype": "text/x-python",
   "name": "python",
   "nbconvert_exporter": "python",
   "pygments_lexer": "ipython3",
   "version": "3.9.12"
  },
  "orig_nbformat": 4
 },
 "nbformat": 4,
 "nbformat_minor": 2
}
